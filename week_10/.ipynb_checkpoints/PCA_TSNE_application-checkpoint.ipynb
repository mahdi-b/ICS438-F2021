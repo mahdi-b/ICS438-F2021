{
 "cells": [
  {
   "cell_type": "code",
   "execution_count": 2,
   "id": "a73ced7c",
   "metadata": {},
   "outputs": [],
   "source": [
    "from IPython.display import Image\n"
   ]
  },
  {
   "cell_type": "code",
   "execution_count": null,
   "id": "3be40da4",
   "metadata": {},
   "outputs": [],
   "source": [
    "### Dimensionality Reduction Applied to the Digts Data Set\n",
    "\n",
    "- Scikit includes numerous datasets used for exploring or training\n",
    "  - Always use for exploring a new algorithm using to avoid any dataset specific issues \n",
    "\n",
    "-  The Iris and MNIST Datasets is a popular ML Scikit-Learn dataset\n"
   ]
  },
  {
   "cell_type": "markdown",
   "id": "f423bdf9",
   "metadata": {},
   "source": [
    "### PCA on The Iris Dataset\n",
    "\n",
    "* The Iris flower data set was introduced by Ronald Fisher \n",
    "  * Published in a paper in a 1936 paper \n",
    "\n",
    "* 50 samples from each of three species of Iris (Iris setosa, Iris virginica and Iris versicolor). \n",
    "\n",
    "* Measured four features: the length and the width of the sepals and petals, in centimeters\n",
    "\n",
    "* See here for more information about the dataset\n",
    "  * https://en.wikipedia.org/wiki/Iris_flower_data_set"
   ]
  },
  {
   "cell_type": "code",
   "execution_count": null,
   "id": "7b17f936",
   "metadata": {},
   "outputs": [],
   "source": [
    "X, y = data.iloc[:, 1:], data['label']\n",
    "print(X.shape)"
   ]
  },
  {
   "cell_type": "code",
   "execution_count": null,
   "id": "d8e203b1",
   "metadata": {},
   "outputs": [],
   "source": [
    "import random\n",
    "numb = random.randint(0,X.shape[0]-1)\n",
    "some_digit = X.iloc[numb].values\n",
    "some_digit_image = some_digit.reshape(28, 28)\n",
    "plt.imshow(some_digit_image, cmap = matplotlib.cm.binary)\n",
    "_ = plt.axis(\"off\")\n",
    "print(\"label: \",y[numb])"
   ]
  },
  {
   "cell_type": "code",
   "execution_count": null,
   "id": "0a52278d",
   "metadata": {},
   "outputs": [],
   "source": [
    "iris.keys()\n"
   ]
  },
  {
   "cell_type": "code",
   "execution_count": null,
   "id": "c4a064f7",
   "metadata": {},
   "outputs": [],
   "source": [
    "iris[\"feature_names\"]"
   ]
  },
  {
   "cell_type": "markdown",
   "id": "8e2fad11",
   "metadata": {},
   "source": [
    "![](https://www.dropbox.com/s/nmmcfa9nq4fner7/iris_petal_sepal.png?dl=1)\n",
    "* Image obtained here here:http://blog.kaggle.com/2015/04/22/scikit-learn-video-3-machine-learning-first-steps-with-the-iris-dataset/\n"
   ]
  },
  {
   "cell_type": "code",
   "execution_count": null,
   "id": "3b2b405b",
   "metadata": {},
   "outputs": [],
   "source": [
    "iris[\"target_names\"]"
   ]
  },
  {
   "cell_type": "code",
   "execution_count": null,
   "id": "bd8aedbc",
   "metadata": {},
   "outputs": [],
   "source": [
    "iris.keys()"
   ]
  },
  {
   "cell_type": "code",
   "execution_count": null,
   "id": "14a2ff13",
   "metadata": {},
   "outputs": [],
   "source": [
    "iris['data'].shape"
   ]
  },
  {
   "cell_type": "code",
   "execution_count": null,
   "id": "22c3a94c",
   "metadata": {},
   "outputs": [],
   "source": [
    "iris['data'][0]"
   ]
  },
  {
   "cell_type": "code",
   "execution_count": null,
   "id": "824dd745",
   "metadata": {},
   "outputs": [],
   "source": [
    "iris['target']\n"
   ]
  },
  {
   "cell_type": "code",
   "execution_count": null,
   "id": "e054f8b5",
   "metadata": {},
   "outputs": [],
   "source": [
    "iris['target_names']"
   ]
  },
  {
   "cell_type": "code",
   "execution_count": null,
   "id": "cc49d0e7",
   "metadata": {},
   "outputs": [],
   "source": [
    "print iris.target_names[iris.target]"
   ]
  },
  {
   "cell_type": "code",
   "execution_count": null,
   "id": "c17f0a29",
   "metadata": {},
   "outputs": [],
   "source": [
    "iris[\"feature_names\"]"
   ]
  },
  {
   "cell_type": "code",
   "execution_count": null,
   "id": "fcbb04c0",
   "metadata": {},
   "outputs": [],
   "source": [
    "iris_df.head()"
   ]
  },
  {
   "cell_type": "code",
   "execution_count": null,
   "id": "76deb746",
   "metadata": {},
   "outputs": [],
   "source": [
    "iris[\"target\"]"
   ]
  },
  {
   "cell_type": "code",
   "execution_count": null,
   "id": "2c0a8083",
   "metadata": {},
   "outputs": [],
   "source": [
    "iris[\"target_names\"]"
   ]
  },
  {
   "cell_type": "code",
   "execution_count": null,
   "id": "03f99bf4",
   "metadata": {},
   "outputs": [],
   "source": [
    "iris_df['species'] = iris[\"target_names\"][iris[\"target\"]]"
   ]
  },
  {
   "cell_type": "code",
   "execution_count": null,
   "id": "6dc3d856",
   "metadata": {},
   "outputs": [],
   "source": [
    "iris_df.iloc[[0,10,60, 80, 101, 111]]"
   ]
  },
  {
   "cell_type": "code",
   "execution_count": null,
   "id": "7f9c3f76",
   "metadata": {},
   "outputs": [],
   "source": [
    "pyplot.figure(figsize=(12,10))\n",
    "# plot correlations betweek all pairs of features in the data\n",
    "# paints each data point using its value for the hue feature\n",
    "sns.pairplot(iris_df, hue='species');"
   ]
  },
  {
   "cell_type": "code",
   "execution_count": null,
   "id": "6db380d4",
   "metadata": {},
   "outputs": [],
   "source": [
    "pca = PCA(n_components=2)\n",
    "pca.fit(iris.data)\n"
   ]
  },
  {
   "cell_type": "code",
   "execution_count": null,
   "id": "ada4ee82",
   "metadata": {},
   "outputs": [],
   "source": [
    "pca.explained_variance_ratio_\n"
   ]
  },
  {
   "cell_type": "code",
   "execution_count": null,
   "id": "81dd1fd2",
   "metadata": {},
   "outputs": [],
   "source": [
    "X_pca = pca.transform(iris.data)\n",
    "X_pca.shape"
   ]
  },
  {
   "cell_type": "code",
   "execution_count": null,
   "id": "77ef9697",
   "metadata": {},
   "outputs": [],
   "source": [
    "iris_df['First Component'] = X_pca[:, 0]\n",
    "iris_df['Second Component'] = X_pca[:, 1]\n",
    "\n",
    "iris_df.head()"
   ]
  },
  {
   "cell_type": "code",
   "execution_count": null,
   "id": "a2ada8c9",
   "metadata": {},
   "outputs": [],
   "source": [
    "pca.components_[:,:]"
   ]
  },
  {
   "cell_type": "code",
   "execution_count": null,
   "id": "a4a5595d",
   "metadata": {},
   "outputs": [],
   "source": [
    "# notice the size inconsistency\n",
    "sns.lmplot('First Component', 'Second Component', \n",
    "           data=iris_df, \n",
    "           fit_reg=False, \n",
    "           hue=\"species\", size=10)"
   ]
  },
  {
   "cell_type": "code",
   "execution_count": null,
   "id": "84bc9e26",
   "metadata": {},
   "outputs": [],
   "source": [
    "### Model instantiation and fitting in Scikit-Learn\n",
    "\n",
    "- The ML algorithms live within the specific directories/module in Scikit-Learn\n",
    "  - Ex. PCA lives in sklearn.decomposition \n",
    "\n",
    "- Object can be created using specific parameters\n",
    "   - PCA(n_components=2, ...)\n",
    "\n",
    "    \n",
    "- All machine learning algorithms in Scikit-Learn have methods from fitting the data\n",
    " - pca.fit()\n",
    "    - Run the algorithm on your data\n",
    "\n",
    "\n",
    "- The common interface makes it easy and (almost) effortless to change algorithms\n",
    "  - One line of code to change for random projections\n",
    "     - Not applicable here\n"
   ]
  },
  {
   "cell_type": "code",
   "execution_count": null,
   "id": "4332fb34",
   "metadata": {},
   "outputs": [],
   "source": [
    "### Prediction in Scikit-Learn\n",
    "\n",
    "- `predict()` function that produces predictions for an input array `X_tests` based on the trained estimator. \n",
    "  - For classification, returns labels for each element of `X_tests`\n",
    "  - For regression, returns values computed for the model\n",
    "    \n",
    "- Not all unsupervised algorithms implement the `predict()` function\n",
    "  - The prediction does not make sense in the context of a PCA\n",
    "\n",
    "- For classification models that compute prediction probabilities, `predict_proba()` returns the probabilities for each label and  each instance\n",
    "    - Probability that a sequence is in a category\n",
    "\n",
    "- For unsupervised estimators, such as PCA, `transform()` will take some data and transform it into the new basis.\n",
    "     - some model implementations have a `fit_transform()`  which efficiently fits and transforms on some input dataset"
   ]
  },
  {
   "cell_type": "code",
   "execution_count": null,
   "id": "7e99657b",
   "metadata": {},
   "outputs": [],
   "source": [
    "-  The data is from the mnist dataset\n",
    "MNIST co,000 entries in the testing portion, with the first column being the label, and the subsequent columns being the pixels. The images are 28x28 pixel images, so 1x1 is the first pixel from the left in the first row and 28x28 is the last pixel on the right in the last row. This dataset was obtained from Kaggle (https://www.kaggle.com/oddrationale/mnist-in-csv). For those who do not want to create a Kaggle account, here is the source that was referenced by the Kaggle page: https://pjreddie.com/projects/mnist-in-csv/ (note that you would need to place the header line manually or by modifying the script that is shown on the page, thus for those who are unfamiliar with Python to use the Kaggle dataset).\n"
   ]
  }
 ],
 "metadata": {
  "kernelspec": {
   "display_name": "Python 3 (ipykernel)",
   "language": "python",
   "name": "python3"
  },
  "language_info": {
   "codemirror_mode": {
    "name": "ipython",
    "version": 3
   },
   "file_extension": ".py",
   "mimetype": "text/x-python",
   "name": "python",
   "nbconvert_exporter": "python",
   "pygments_lexer": "ipython3",
   "version": "3.8.3"
  }
 },
 "nbformat": 4,
 "nbformat_minor": 5
}
