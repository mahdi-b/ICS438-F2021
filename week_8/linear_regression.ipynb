{
 "cells": [
  {
   "cell_type": "code",
   "execution_count": 6,
   "metadata": {
    "slideshow": {
     "slide_type": "slide"
    }
   },
   "outputs": [],
   "source": [
    "# %load ../standard_import.txt\n",
    "import pandas as pd\n",
    "import numpy as np\n",
    "import matplotlib.pyplot as plt\n",
    "from mpl_toolkits.mplot3d import axes3d\n",
    "import seaborn as sns\n",
    "\n",
    "from sklearn.preprocessing import scale\n",
    "import sklearn.linear_model as skl_lm\n",
    "from sklearn.metrics import mean_squared_error, r2_score\n",
    "import statsmodels.api as sm\n",
    "import statsmodels.formula.api as sm\n",
    "\n",
    "%matplotlib inline\n"
   ]
  },
  {
   "cell_type": "markdown",
   "metadata": {
    "slideshow": {
     "slide_type": "slide"
    }
   },
   "source": [
    "* 3.1 Simple Linear Regression\n",
    "\n",
    "* 3.3 Multiple Linear Regression and Interpreting Regression Coefficients\n",
    "\n",
    "<img src=\"https://www.dropbox.com/s/fe94fcmhkpngnnc/IFSL.png?dl=1\" alt=\"drawing\" style=\"width:300px;\"/>\n",
    "\n",
    "* An excellent reference for statistical learning\n"
   ]
  },
  {
   "cell_type": "markdown",
   "metadata": {
    "slideshow": {
     "slide_type": "slide"
    }
   },
   "source": [
    "### Single (simple) Linear Regression\n",
    "\n",
    "* A simple method to predict a *quantitative* response $y$ on the basis of a single predictor variable $X$\n",
    "  * Here, in the general case $X$ refers to a vector or one or more variables\n",
    "  * We consider a single variable $X$ to start; hence simple linear regression.\n",
    "- Assume an approximately linear relationship between $X$ and $y$\n",
    "\n",
    "\n",
    "- Remember that the equation of a line is:\n",
    "\n",
    "$$\n",
    "    Y = \\beta_0 + \\beta_1 * X,\n",
    "$$\n",
    "\n",
    "* Where: \n",
    "  * $\\beta_0$ the intercept of the equation\n",
    "  * $\\beta_1$ the slope\n",
    "\n",
    "\n",
    "\n"
   ]
  },
  {
   "cell_type": "code",
   "execution_count": 7,
   "metadata": {
    "slideshow": {
     "slide_type": "skip"
    }
   },
   "outputs": [
    {
     "data": {
      "text/plain": [
       "Text(0.5, 1.0, '$y = 1.2 x +2$')"
      ]
     },
     "execution_count": 7,
     "metadata": {},
     "output_type": "execute_result"
    },
    {
     "data": {
      "image/png": "[encoded data removed]",
      "text/plain": [
       "<Figure size 1008x576 with 1 Axes>"
      ]
     },
     "metadata": {
      "needs_background": "light"
     },
     "output_type": "display_data"
    }
   ],
   "source": [
    "\n",
    "x = np.arange(-4, 10, 0.5)\n",
    "plt.figure(figsize=(14,8))\n",
    "\n",
    "y = 1.2*x + 3\n",
    "\n",
    "plt.plot(x, y)\n",
    "plt.xlim(-5,11)\n",
    "plt.ylim(-5,15)\n",
    "plt.axhline(0, color=\"red\", alpha=0.1)\n",
    "plt.axvline(0, color=\"red\", alpha=0.1)\n",
    "plt.title(\"$y = 1.2 x +2$\") \n"
   ]
  },
  {
   "cell_type": "markdown",
   "metadata": {
    "slideshow": {
     "slide_type": "slide"
    }
   },
   "source": [
    "### line exmaple\n",
    "\n",
    "```python\n",
    "x = np.arange(-4, 10, 0.5)\n",
    "plt.figure(figsize=(14,8))\n",
    "\n",
    "y = 1.2*x + 3\n",
    "```\n",
    "![](https://www.dropbox.com/s/rn3zvhsin8bnb42/line_example.png?dl=1)"
   ]
  },
  {
   "cell_type": "markdown",
   "metadata": {
    "slideshow": {
     "slide_type": "slide"
    }
   },
   "source": [
    "### Advertizing Datasets\n",
    "\n",
    "- Displays `sales` (in thousands of units) for some product as a function of advertising budgets (in thousands of dollars) for `TV`, `radio`, and `newspaper`.\n",
    "\n",
    "* Some of the questions we are interested in -- and can answer using linear regression --are :\n",
    "\n",
    "  * Which medium or combination of) (if any) contribute to sales?\n",
    "  * How accurately can we estimate the effect of each medium on sales?\n",
    "  * Is there Synergy between the advertising media?\n",
    "    * Interaction between TV and radio?\n",
    "\n",
    "* Etc.\n"
   ]
  },
  {
   "cell_type": "code",
   "execution_count": 8,
   "metadata": {
    "slideshow": {
     "slide_type": "slide"
    }
   },
   "outputs": [
    {
     "data": {
      "text/html": [
       "<div>\n",
       "<style scoped>\n",
       "    .dataframe tbody tr th:only-of-type {\n",
       "        vertical-align: middle;\n",
       "    }\n",
       "\n",
       "    .dataframe tbody tr th {\n",
       "        vertical-align: top;\n",
       "    }\n",
       "\n",
       "    .dataframe thead th {\n",
       "        text-align: right;\n",
       "    }\n",
       "</style>\n",
       "<table border=\"1\" class=\"dataframe\">\n",
       "  <thead>\n",
       "    <tr style=\"text-align: right;\">\n",
       "      <th></th>\n",
       "      <th>TV</th>\n",
       "      <th>radio</th>\n",
       "      <th>newspaper</th>\n",
       "      <th>sales</th>\n",
       "    </tr>\n",
       "  </thead>\n",
       "  <tbody>\n",
       "    <tr>\n",
       "      <th>0</th>\n",
       "      <td>230.1</td>\n",
       "      <td>37.8</td>\n",
       "      <td>69.2</td>\n",
       "      <td>22.1</td>\n",
       "    </tr>\n",
       "    <tr>\n",
       "      <th>1</th>\n",
       "      <td>44.5</td>\n",
       "      <td>39.3</td>\n",
       "      <td>45.1</td>\n",
       "      <td>10.4</td>\n",
       "    </tr>\n",
       "    <tr>\n",
       "      <th>2</th>\n",
       "      <td>17.2</td>\n",
       "      <td>45.9</td>\n",
       "      <td>69.3</td>\n",
       "      <td>9.3</td>\n",
       "    </tr>\n",
       "    <tr>\n",
       "      <th>3</th>\n",
       "      <td>151.5</td>\n",
       "      <td>41.3</td>\n",
       "      <td>58.5</td>\n",
       "      <td>18.5</td>\n",
       "    </tr>\n",
       "    <tr>\n",
       "      <th>4</th>\n",
       "      <td>180.8</td>\n",
       "      <td>10.8</td>\n",
       "      <td>58.4</td>\n",
       "      <td>12.9</td>\n",
       "    </tr>\n",
       "  </tbody>\n",
       "</table>\n",
       "</div>"
      ],
      "text/plain": [
       "      TV  radio  newspaper  sales\n",
       "0  230.1   37.8       69.2   22.1\n",
       "1   44.5   39.3       45.1   10.4\n",
       "2   17.2   45.9       69.3    9.3\n",
       "3  151.5   41.3       58.5   18.5\n",
       "4  180.8   10.8       58.4   12.9"
      ]
     },
     "execution_count": 8,
     "metadata": {},
     "output_type": "execute_result"
    }
   ],
   "source": [
    "# https://www.dropbox.com/s/yjbso07nqjg0bbk/Advertising.csv?dl=1\n",
    "\n",
    "advertising = pd.read_csv('data/Advertising.csv', usecols=[1,2,3,4])\n",
    "advertising.head()"
   ]
  },
  {
   "cell_type": "markdown",
   "metadata": {
    "slideshow": {
     "slide_type": "slide"
    }
   },
   "source": [
    "### Sales vs. TV spending\n",
    "\n",
    "* What Does the data look like?\n",
    "* How can we model it?\n",
    "  * A model is simply an informative represntation of some data\n",
    "    * May be simplified or inexact\n",
    "\n",
    "![](https://www.dropbox.com/s/ugx6olqquvn49i8/data_plot.png?dl=1)"
   ]
  },
  {
   "cell_type": "markdown",
   "metadata": {
    "slideshow": {
     "slide_type": "slide"
    }
   },
   "source": [
    "### Linear Regression\n",
    "\n",
    "* The SciPy open-source package contains a wealth of data analysis modules, including the stats module which can be used to do a linear regression.\n",
    "  * Other packages like pandas, `scikit-learn`, and MLlib can also be used. \n",
    "  * The logic and results are pretty much the same.\n",
    "\n",
    "* `linregress` function in the `scipy.stats` module returns the intercept $\\beta_0$ and the slope $\\beta_1$ of the linear relationship between sales and advertising budget for TV\n",
    "\n",
    "$$\n",
    "    sales \\approx \\beta_0 + \\beta_1 * TV\n",
    "$$\n",
    "\n",
    "* Together, $\\beta_0$ and $\\beta_1$ are known as the model parameters\n"
   ]
  },
  {
   "cell_type": "code",
   "execution_count": 9,
   "metadata": {
    "scrolled": true,
    "slideshow": {
     "slide_type": "slide"
    }
   },
   "outputs": [
    {
     "data": {
      "text/plain": [
       "LinregressResult(slope=0.0475366404330197, intercept=7.032593549127702, rvalue=0.7822244248616063, pvalue=1.4673897001948012e-42, stderr=0.0026906071877968703, intercept_stderr=0.4578429402734785)"
      ]
     },
     "execution_count": 9,
     "metadata": {},
     "output_type": "execute_result"
    }
   ],
   "source": [
    "from scipy.stats import linregress\n",
    "\n",
    "linreg = linregress(advertising[\"TV\"], advertising[\"sales\"])\n",
    "linreg"
   ]
  },
  {
   "cell_type": "code",
   "execution_count": 10,
   "metadata": {
    "slideshow": {
     "slide_type": "slide"
    }
   },
   "outputs": [
    {
     "name": "stdout",
     "output_type": "stream",
     "text": [
      "The slope is: 0.0475366404330197\n",
      "The Interecept is: 7.032593549127702\n",
      "The p.value is: 1.4673897001948012e-42\n"
     ]
    }
   ],
   "source": [
    "print(f\"The slope is: {linreg.slope}\")\n",
    "\n",
    "print(f\"The Interecept is: {linreg.intercept}\")\n",
    "\n",
    "# More on p-value later\n",
    "print(f\"The p.value is: {linreg.pvalue}\")"
   ]
  },
  {
   "cell_type": "markdown",
   "metadata": {
    "slideshow": {
     "slide_type": "slide"
    }
   },
   "source": [
    "### The Model Representation\n",
    "\n",
    "* What we have derived is a model that represents `sales` as an outcome, predicted of the output variable \n",
    "* Nomenclature can be confusing sometimes. Depending on the fields:\n",
    "  * `Sales` can be referred to as dependent variables, response (responding) variable, regressand, predicted variable, explained variable, outcome (output) variable.\n",
    "  * `TV` can be referred to as feature, independent variable, predictor variable, regressor, covariate, explanatory variable, risk factor (see medical statistics)\n",
    "    * Will use the term explanatory or independent variable\n",
    "\n",
    "![](https://www.dropbox.com/s/kwq5utavokeadaj/line_model.png?dl=1)"
   ]
  },
  {
   "cell_type": "markdown",
   "metadata": {
    "slideshow": {
     "slide_type": "slide"
    }
   },
   "source": [
    "### The Model Representation\n",
    "\n",
    "* The model that we derived is a line\n",
    "* The model has two parameters, a slope, and an intercept\n",
    "* The model summarizes/describes the data\n",
    "\n",
    "![](https://www.dropbox.com/s/b3ijojd8sq7l747/line_regression_line.png?dl=1)"
   ]
  },
  {
   "cell_type": "markdown",
   "metadata": {
    "slideshow": {
     "slide_type": "slide"
    }
   },
   "source": [
    "### Predicting a Value\n",
    "\n",
    "* The model allows us to predict reponse variable values (`sales`) gievn any input variable (`TV`)\n",
    "\n",
    "$$ \n",
    "sales = \\beta_0 \\times TV + \\beta_1\n",
    "$$\n",
    "\n",
    "![](https://www.dropbox.com/s/wlmeljxdkltwgnu/prediction.png?dl=1)\n"
   ]
  },
  {
   "cell_type": "code",
   "execution_count": 59,
   "metadata": {
    "slideshow": {
     "slide_type": "slide"
    }
   },
   "outputs": [
    {
     "name": "stdout",
     "output_type": "stream",
     "text": [
      "18.91675365738263\n"
     ]
    }
   ],
   "source": [
    "some_tv_advertising = 250\n",
    "\n",
    "some_sales_prediction = linreg.slope * some_tv_advertising + linreg.intercept \n",
    "\n",
    "print(some_sales_prediction)"
   ]
  },
  {
   "cell_type": "code",
   "execution_count": 60,
   "metadata": {
    "slideshow": {
     "slide_type": "skip"
    }
   },
   "outputs": [
    {
     "data": {
      "text/plain": [
       "<matplotlib.collections.PathCollection at 0x7f99034f1130>"
      ]
     },
     "execution_count": 60,
     "metadata": {},
     "output_type": "execute_result"
    },
    {
     "data": {
      "image/png": "[encoded data removed]",
      "text/plain": [
       "<Figure size 1152x432 with 1 Axes>"
      ]
     },
     "metadata": {
      "needs_background": "light"
     },
     "output_type": "display_data"
    }
   ],
   "source": [
    "plt.figure(figsize=(16,6))\n",
    "some_tv_advertising = 250\n",
    "some_sales_prediction = linreg.intercept + linreg.slope * some_tv_advertising\n",
    "plt.scatter(advertising[\"TV\"], advertising[\"sales\"])\n",
    "plt.xlim(-10, 320)\n",
    "plt.ylim(0, 28)\n",
    "plt.vlines(some_tv_advertising, 0, some_sales_prediction, color='red')\n",
    "plt.hlines(some_sales_prediction, -10, some_tv_advertising, color='red')\n",
    "plt.scatter(some_tv_advertising, some_sales_prediction, s=100, color='red')\n"
   ]
  },
  {
   "cell_type": "code",
   "execution_count": 61,
   "metadata": {
    "slideshow": {
     "slide_type": "skip"
    }
   },
   "outputs": [
    {
     "data": {
      "text/plain": [
       "<matplotlib.collections.PathCollection at 0x7f99025a1520>"
      ]
     },
     "execution_count": 61,
     "metadata": {},
     "output_type": "execute_result"
    },
    {
     "data": {
      "image/png": "[encoded data removed]",
      "text/plain": [
       "<Figure size 1152x432 with 1 Axes>"
      ]
     },
     "metadata": {
      "needs_background": "light"
     },
     "output_type": "display_data"
    }
   ],
   "source": [
    "plt.figure(figsize=(16,6))\n",
    "\n",
    "x_axis = np.arange(0,320, 10)\n",
    "\n",
    "y_line = linreg.intercept + linreg.slope * x_axis\n",
    "plt.scatter(advertising[\"TV\"], advertising[\"sales\"])\n",
    "plt.scatter(x_axis, y_line, color='red', s=100)"
   ]
  },
  {
   "cell_type": "code",
   "execution_count": 7,
   "metadata": {
    "slideshow": {
     "slide_type": "skip"
    }
   },
   "outputs": [
    {
     "data": {
      "text/plain": [
       "[<matplotlib.lines.Line2D at 0x12605f3a0>]"
      ]
     },
     "execution_count": 7,
     "metadata": {},
     "output_type": "execute_result"
    },
    {
     "data": {
      "image/png": "[encoded data removed]",
      "text/plain": [
       "<Figure size 1152x432 with 1 Axes>"
      ]
     },
     "metadata": {
      "needs_background": "light"
     },
     "output_type": "display_data"
    }
   ],
   "source": [
    "plt.figure(figsize=(16,6))\n",
    "\n",
    "x_axis = np.arange(0,320)\n",
    "y_line = linreg.intercept + linreg.slope * x_axis\n",
    "plt.scatter(advertising[\"TV\"], advertising[\"sales\"])\n",
    "plt.plot(x_axis, y_line, color='red', linewidth=4, alpha=0.5)"
   ]
  },
  {
   "cell_type": "markdown",
   "metadata": {
    "slideshow": {
     "slide_type": "slide"
    }
   },
   "source": [
    "### The Quality of the Regression: Model Error\n",
    "\n",
    "* In this model, the error is the difference between the predicted value and the actual value\n",
    "  * Intuitive... a perfect model is one that passes through (predicts without error) all the values.\n",
    "\n",
    "* If  $\\hat{y}_i = \\beta_0 + \\beta_1 x_i$, then the error for $i^{th}$ data point is $e_i = \\hat{y}_i - y_i$\n",
    "\n",
    "![](https://www.dropbox.com/s/mdvaovrob9bgrc0/error.png?dl=1)"
   ]
  },
  {
   "cell_type": "code",
   "execution_count": 46,
   "metadata": {
    "slideshow": {
     "slide_type": "slide"
    }
   },
   "outputs": [
    {
     "data": {
      "text/plain": [
       "TV           230.1\n",
       "radio         37.8\n",
       "newspaper     69.2\n",
       "sales         22.1\n",
       "Name: 0, dtype: float64"
      ]
     },
     "execution_count": 46,
     "metadata": {},
     "output_type": "execute_result"
    }
   ],
   "source": [
    "some_point = advertising.iloc[0]\n",
    "some_point"
   ]
  },
  {
   "cell_type": "markdown",
   "metadata": {
    "slideshow": {
     "slide_type": "slide"
    }
   },
   "source": [
    "### The Quality of the Regression: Model Error - Cont'd\n",
    "\n",
    "* The overall model error can thus be computed simply as the sum of all errors.\n",
    "\n",
    "![](https://www.dropbox.com/s/sea80g5sgktjcal/error_all_points.png?dl=1)\n",
    "\n"
   ]
  },
  {
   "cell_type": "code",
   "execution_count": 9,
   "metadata": {
    "slideshow": {
     "slide_type": "slide"
    }
   },
   "outputs": [
    {
     "data": {
      "text/plain": [
       "<matplotlib.collections.LineCollection at 0x12621dbe0>"
      ]
     },
     "execution_count": 9,
     "metadata": {},
     "output_type": "execute_result"
    },
    {
     "data": {
      "image/png": "[encoded data removed]",
      "text/plain": [
       "<Figure size 1152x432 with 1 Axes>"
      ]
     },
     "metadata": {
      "needs_background": "light"
     },
     "output_type": "display_data"
    }
   ],
   "source": [
    "plt.figure(figsize=(16,6))\n",
    "\n",
    "x_axis = np.arange(0,320)\n",
    "y_line = linreg.intercept + linreg.slope * x_axis\n",
    "plt.scatter(advertising[\"TV\"], advertising[\"sales\"], alpha=0.2)\n",
    "plt.plot(x_axis, y_line, color='black', linewidth=4, alpha=0.5)\n",
    "\n",
    "\n",
    "y_hat = linreg.intercept + linreg.slope * some_point[\"TV\"]\n",
    "plt.scatter(some_point[\"TV\"], some_point[\"sales\"], color='red', s=100)\n",
    "plt.vlines(some_point[\"TV\"], some_point[\"sales\"], y_hat, color='red')\n"
   ]
  },
  {
   "cell_type": "markdown",
   "metadata": {
    "slideshow": {
     "slide_type": "slide"
    }
   },
   "source": [
    "### The Quality of the Regression: Correlation Coefficient\n",
    "\n",
    "```python\n",
    ">>> linregress(advertising[\"TV\"], advertising[\"sales\"])\n",
    "\n",
    "LinregressResult(slope=0.0475366404330197, intercept=7.032593549127702, rvalue=0.7822244248616063, pvalue=1.4673897001948012e-42, stderr=0.0026906071877968703)\n",
    "```\n",
    "\n",
    "* The correlation coefficient for the relationship between TV and sales is rather high\n",
    "   * TV advertising budget explains $r^2 = 0.61$ of the variance in the product's sales\n"
   ]
  },
  {
   "cell_type": "code",
   "execution_count": 10,
   "metadata": {
    "slideshow": {
     "slide_type": "skip"
    }
   },
   "outputs": [
    {
     "data": {
      "image/png": "[encoded data removed]",
      "text/plain": [
       "<Figure size 1152x432 with 1 Axes>"
      ]
     },
     "metadata": {
      "needs_background": "light"
     },
     "output_type": "display_data"
    }
   ],
   "source": [
    "plt.figure(figsize=(16,6))\n",
    "\n",
    "x_axis = np.arange(0,320)\n",
    "y_line = linreg.intercept + linreg.slope * x_axis\n",
    "plt.scatter(advertising[\"TV\"], advertising[\"sales\"], alpha=0.2)\n",
    "plt.plot(x_axis, y_line, color='black', linewidth=4, alpha=0.5)\n",
    "\n",
    "for i in range(advertising.shape[0]):\n",
    "    y_hat = linreg.intercept + linreg.slope * advertising.iloc[i][\"TV\"]\n",
    "    #plt.scatter(advertising.iloc[i][\"TV\"], advertising.iloc[i][\"sales\"], color='red', s=100)\n",
    "    plt.vlines(advertising.iloc[i][\"TV\"], advertising.iloc[i][\"sales\"], y_hat, color='red')\n"
   ]
  },
  {
   "cell_type": "markdown",
   "metadata": {
    "slideshow": {
     "slide_type": "slide"
    }
   },
   "source": [
    "### The Model Error and the Residual Sum of Squares\n",
    "\n",
    "* We can quantify how well a line fits the data simply by assessing the total error \n",
    "  * To avoid that error values cancel out, we compute the square of the error\n",
    "* We call that the residual sum of squares (RSS)\n",
    "\n",
    "$$\n",
    "RSS = e_1^2 + e_2^2 + ... + e_n^2\n",
    "$$\n",
    "\n",
    "\n",
    "\n"
   ]
  },
  {
   "cell_type": "markdown",
   "metadata": {
    "slideshow": {
     "slide_type": "slide"
    }
   },
   "source": [
    "### Regression coefficients - Minimizing the RSS\n",
    "\n",
    "* Naturally, we want the model that provides the smallest RSS for the data \n",
    "  * This is not always something we desire at any cost\n",
    "    * A \"database\" or a hash table is a \"model\" which can provide RSS=0, yet, it's a bad model\n",
    "      * Provide zero predictive power\n",
    "\n",
    "* Since we are doing linear regression, we are concerned with finding the line with the smallest RSS\n",
    "  * That line is the best model under the current assumption"
   ]
  },
  {
   "cell_type": "markdown",
   "metadata": {
    "slideshow": {
     "slide_type": "slide"
    }
   },
   "source": [
    "### Regression coefficients - Minimizing the RSS - Cont'd \n",
    "\n",
    "<img src=\"https://www.dropbox.com/s/rmatv5vx7d4rdb1/RSS_Examples.png?dl=1\" alt=\"drawing\" style=\"width:900px;\"/>\n"
   ]
  },
  {
   "cell_type": "code",
   "execution_count": 11,
   "metadata": {
    "slideshow": {
     "slide_type": "skip"
    }
   },
   "outputs": [
    {
     "name": "stderr",
     "output_type": "stream",
     "text": [
      "No handles with labels found to put in legend.\n"
     ]
    },
    {
     "data": {
      "text/plain": [
       "<matplotlib.legend.Legend at 0x1265b67f0>"
      ]
     },
     "execution_count": 11,
     "metadata": {},
     "output_type": "execute_result"
    },
    {
     "data": {
      "image/png": "[encoded data removed]",
      "text/plain": [
       "<Figure size 1152x576 with 4 Axes>"
      ]
     },
     "metadata": {
      "needs_background": "light"
     },
     "output_type": "display_data"
    }
   ],
   "source": [
    "plt.figure(figsize=(16,8))\n",
    "\n",
    "\n",
    "models = [(linreg.intercept, linreg.slope), (-2,0.2), (20,0), (20,-0.1)]\n",
    "\n",
    "x_axis = np.arange(-10,320)\n",
    "\n",
    "for (m, model) in enumerate(models):\n",
    "    plt.subplot(2, 2, m+1)\n",
    "    y_line = model[0] + model[1] * x_axis\n",
    "    plt.scatter(advertising[\"TV\"], advertising[\"sales\"], alpha=0.2)\n",
    "    RSS = 0 \n",
    "    for i in range(advertising.shape[0]):\n",
    "        y_hat = model[0] + model[1]  * advertising.iloc[i][\"TV\"]\n",
    "        #plt.scatter(advertising.iloc[i][\"TV\"], advertising.iloc[i][\"sales\"], color='red', s=100)\n",
    "        plt.vlines(advertising.iloc[i][\"TV\"], advertising.iloc[i][\"sales\"], y_hat, color='red')    \n",
    "        RSS += (y_hat - advertising.iloc[i][\"sales\"])**2\n",
    "    plt.plot(x_axis, y_line)\n",
    "    plt.title( \"RSS={}\".format(round(RSS,1)), fontsize=18)\n",
    "    \n",
    "plt.legend()\n",
    "        "
   ]
  },
  {
   "cell_type": "markdown",
   "metadata": {
    "slideshow": {
     "slide_type": "slide"
    }
   },
   "source": [
    "### Computing the RSS\n",
    "\n",
    "* For linear regression, we can use calculus to arrive at the closed form solutions of $\\beta_0$ and $\\beta_1$ that minimize the RSS\n",
    "\n",
    "* Minimize equation by finding where partial derivatives are equal to 0 \n",
    "\n",
    "\n",
    "$\n",
    "\\beta_1 = \\frac{\\sum_{i=1}^{n} (x_i -\\bar{x})(y_i -\\bar{y})}{\\sum_{i=1}^{n} (x_i -\\bar{x})^2}\n",
    "$\n",
    "\n",
    "\n",
    "$\n",
    "\\beta_0 = \\bar{y} - \\beta_1\\bar{x}\n",
    "$\n",
    "\n",
    "* More on optimzation techniques later. \n",
    "\n",
    "* Given the data, we find the model, which parameters have the small RSS.\n",
    "  * This is called training.\n"
   ]
  },
  {
   "cell_type": "markdown",
   "metadata": {
    "collapsed": true,
    "slideshow": {
     "slide_type": "slide"
    }
   },
   "source": [
    "<img src=\"https://www.dropbox.com/s/wg3r2z7vfredtxh/curve.png?dl=1\" alt=\"drawing\" style=\"width:1000px;\"/>"
   ]
  },
  {
   "cell_type": "markdown",
   "metadata": {
    "slideshow": {
     "slide_type": "slide"
    }
   },
   "source": [
    "### Questions\n",
    "\n",
    "* Our data are samples from a random process.\n",
    "  * The data could have been different due to chance alone\n",
    "\n",
    "* Getting new data may lead to different parameter estimates\n",
    "  * if we repeat the same spending experiment, we will undoubtedly obtain different results\n",
    "  \n",
    "* How confident are we in our model estimates?\n",
    "\n",
    "* How can we quantify our belief in our params?\n"
   ]
  },
  {
   "cell_type": "markdown",
   "metadata": {
    "slideshow": {
     "slide_type": "slide"
    }
   },
   "source": [
    "### Confidence Interval in Model Parameters\n",
    "\n",
    "* One way we have done this in a large dataset is by sampling a subset of data and repeating the computation of the model.\n",
    "   * We control the uni(multi)verse!!!\n",
    "\n",
    "  * Big data: we have so much data. We can assume we have a population that we can sample subsets form\n",
    "    * Subsets can be without replacement.... plenty of data to use\n",
    "  * Is small data or higher dimensional space subsample with replacement the same number of points\n",
    "    * This is called bootstrapping\n",
    "    * Illustrate the concept\n",
    "  \n",
    "  * Computing the 95% confidence interval of the model\n",
    "    * Identify the range in which 95% of our estimates fall\n",
    "    \n",
    "    \n"
   ]
  },
  {
   "cell_type": "markdown",
   "metadata": {
    "slideshow": {
     "slide_type": "slide"
    }
   },
   "source": [
    "### Confidence Interval in Model Parameters -- cont'd\n",
    "\n",
    "![](https://www.dropbox.com/s/9411quj8bcbc4wv/conf_interval.png?dl=1)\n",
    "\n"
   ]
  },
  {
   "cell_type": "markdown",
   "metadata": {
    "slideshow": {
     "slide_type": "slide"
    }
   },
   "source": [
    "### Example: Distribution of Intercepts\n",
    "\n",
    "![](https://www.dropbox.com/s/1woeldmry1sy08s/dis_intercepts.png?dl=1)"
   ]
  },
  {
   "cell_type": "code",
   "execution_count": 49,
   "metadata": {
    "slideshow": {
     "slide_type": "skip"
    }
   },
   "outputs": [
    {
     "name": "stdout",
     "output_type": "stream",
     "text": [
      "(200, 4)\n"
     ]
    }
   ],
   "source": [
    "print(advertising.shape)"
   ]
  },
  {
   "cell_type": "code",
   "execution_count": 13,
   "metadata": {
    "slideshow": {
     "slide_type": "skip"
    }
   },
   "outputs": [
    {
     "name": "stdout",
     "output_type": "stream",
     "text": [
      "Help on method sample in module pandas.core.generic:\n",
      "\n",
      "sample(n=None, frac=None, replace=False, weights=None, random_state=None, axis=None) -> ~FrameOrSeries method of pandas.core.frame.DataFrame instance\n",
      "    Return a random sample of items from an axis of object.\n",
      "    \n",
      "    You can use `random_state` for reproducibility.\n",
      "    \n",
      "    Parameters\n",
      "    ----------\n",
      "    n : int, optional\n",
      "        Number of items from axis to return. Cannot be used with `frac`.\n",
      "        Default = 1 if `frac` = None.\n",
      "    frac : float, optional\n",
      "        Fraction of axis items to return. Cannot be used with `n`.\n",
      "    replace : bool, default False\n",
      "        Allow or disallow sampling of the same row more than once.\n",
      "    weights : str or ndarray-like, optional\n",
      "        Default 'None' results in equal probability weighting.\n",
      "        If passed a Series, will align with target object on index. Index\n",
      "        values in weights not found in sampled object will be ignored and\n",
      "        index values in sampled object not in weights will be assigned\n",
      "        weights of zero.\n",
      "        If called on a DataFrame, will accept the name of a column\n",
      "        when axis = 0.\n",
      "        Unless weights are a Series, weights must be same length as axis\n",
      "        being sampled.\n",
      "        If weights do not sum to 1, they will be normalized to sum to 1.\n",
      "        Missing values in the weights column will be treated as zero.\n",
      "        Infinite values not allowed.\n",
      "    random_state : int or numpy.random.RandomState, optional\n",
      "        Seed for the random number generator (if int), or numpy RandomState\n",
      "        object.\n",
      "    axis : {0 or ‘index’, 1 or ‘columns’, None}, default None\n",
      "        Axis to sample. Accepts axis number or name. Default is stat axis\n",
      "        for given data type (0 for Series and DataFrames).\n",
      "    \n",
      "    Returns\n",
      "    -------\n",
      "    Series or DataFrame\n",
      "        A new object of same type as caller containing `n` items randomly\n",
      "        sampled from the caller object.\n",
      "    \n",
      "    See Also\n",
      "    --------\n",
      "    numpy.random.choice: Generates a random sample from a given 1-D numpy\n",
      "        array.\n",
      "    \n",
      "    Notes\n",
      "    -----\n",
      "    If `frac` > 1, `replacement` should be set to `True`.\n",
      "    \n",
      "    Examples\n",
      "    --------\n",
      "    >>> df = pd.DataFrame({'num_legs': [2, 4, 8, 0],\n",
      "    ...                    'num_wings': [2, 0, 0, 0],\n",
      "    ...                    'num_specimen_seen': [10, 2, 1, 8]},\n",
      "    ...                   index=['falcon', 'dog', 'spider', 'fish'])\n",
      "    >>> df\n",
      "            num_legs  num_wings  num_specimen_seen\n",
      "    falcon         2          2                 10\n",
      "    dog            4          0                  2\n",
      "    spider         8          0                  1\n",
      "    fish           0          0                  8\n",
      "    \n",
      "    Extract 3 random elements from the ``Series`` ``df['num_legs']``:\n",
      "    Note that we use `random_state` to ensure the reproducibility of\n",
      "    the examples.\n",
      "    \n",
      "    >>> df['num_legs'].sample(n=3, random_state=1)\n",
      "    fish      0\n",
      "    spider    8\n",
      "    falcon    2\n",
      "    Name: num_legs, dtype: int64\n",
      "    \n",
      "    A random 50% sample of the ``DataFrame`` with replacement:\n",
      "    \n",
      "    >>> df.sample(frac=0.5, replace=True, random_state=1)\n",
      "          num_legs  num_wings  num_specimen_seen\n",
      "    dog          4          0                  2\n",
      "    fish         0          0                  8\n",
      "    \n",
      "    An upsample sample of the ``DataFrame`` with replacement:\n",
      "    Note that `replace` parameter has to be `True` for `frac` parameter > 1.\n",
      "    \n",
      "    >>> df.sample(frac=2, replace=True, random_state=1)\n",
      "            num_legs  num_wings  num_specimen_seen\n",
      "    dog            4          0                  2\n",
      "    fish           0          0                  8\n",
      "    falcon         2          2                 10\n",
      "    falcon         2          2                 10\n",
      "    fish           0          0                  8\n",
      "    dog            4          0                  2\n",
      "    fish           0          0                  8\n",
      "    dog            4          0                  2\n",
      "    \n",
      "    Using a DataFrame column as weights. Rows with larger value in the\n",
      "    `num_specimen_seen` column are more likely to be sampled.\n",
      "    \n",
      "    >>> df.sample(n=2, weights='num_specimen_seen', random_state=1)\n",
      "            num_legs  num_wings  num_specimen_seen\n",
      "    falcon         2          2                 10\n",
      "    fish           0          0                  8\n",
      "\n"
     ]
    }
   ],
   "source": [
    "help(advertising.sample)"
   ]
  },
  {
   "cell_type": "code",
   "execution_count": 51,
   "metadata": {
    "slideshow": {
     "slide_type": "skip"
    }
   },
   "outputs": [
    {
     "data": {
      "text/html": [
       "<div>\n",
       "<style scoped>\n",
       "    .dataframe tbody tr th:only-of-type {\n",
       "        vertical-align: middle;\n",
       "    }\n",
       "\n",
       "    .dataframe tbody tr th {\n",
       "        vertical-align: top;\n",
       "    }\n",
       "\n",
       "    .dataframe thead th {\n",
       "        text-align: right;\n",
       "    }\n",
       "</style>\n",
       "<table border=\"1\" class=\"dataframe\">\n",
       "  <thead>\n",
       "    <tr style=\"text-align: right;\">\n",
       "      <th></th>\n",
       "      <th>TV</th>\n",
       "      <th>radio</th>\n",
       "      <th>newspaper</th>\n",
       "      <th>sales</th>\n",
       "    </tr>\n",
       "  </thead>\n",
       "  <tbody>\n",
       "    <tr>\n",
       "      <th>103</th>\n",
       "      <td>187.9</td>\n",
       "      <td>17.2</td>\n",
       "      <td>17.9</td>\n",
       "      <td>14.7</td>\n",
       "    </tr>\n",
       "    <tr>\n",
       "      <th>73</th>\n",
       "      <td>129.4</td>\n",
       "      <td>5.7</td>\n",
       "      <td>31.3</td>\n",
       "      <td>11.0</td>\n",
       "    </tr>\n",
       "    <tr>\n",
       "      <th>9</th>\n",
       "      <td>199.8</td>\n",
       "      <td>2.6</td>\n",
       "      <td>21.2</td>\n",
       "      <td>10.6</td>\n",
       "    </tr>\n",
       "    <tr>\n",
       "      <th>151</th>\n",
       "      <td>121.0</td>\n",
       "      <td>8.4</td>\n",
       "      <td>48.7</td>\n",
       "      <td>11.6</td>\n",
       "    </tr>\n",
       "    <tr>\n",
       "      <th>92</th>\n",
       "      <td>217.7</td>\n",
       "      <td>33.5</td>\n",
       "      <td>59.0</td>\n",
       "      <td>19.4</td>\n",
       "    </tr>\n",
       "  </tbody>\n",
       "</table>\n",
       "</div>"
      ],
      "text/plain": [
       "        TV  radio  newspaper  sales\n",
       "103  187.9   17.2       17.9   14.7\n",
       "73   129.4    5.7       31.3   11.0\n",
       "9    199.8    2.6       21.2   10.6\n",
       "151  121.0    8.4       48.7   11.6\n",
       "92   217.7   33.5       59.0   19.4"
      ]
     },
     "execution_count": 51,
     "metadata": {},
     "output_type": "execute_result"
    }
   ],
   "source": [
    "# bootstrapping the data (same sample size)\n",
    "advertising.sample(advertising.shape[0], replace=True).head()"
   ]
  },
  {
   "cell_type": "code",
   "execution_count": 52,
   "metadata": {
    "slideshow": {
     "slide_type": "skip"
    }
   },
   "outputs": [
    {
     "data": {
      "text/html": [
       "<div>\n",
       "<style scoped>\n",
       "    .dataframe tbody tr th:only-of-type {\n",
       "        vertical-align: middle;\n",
       "    }\n",
       "\n",
       "    .dataframe tbody tr th {\n",
       "        vertical-align: top;\n",
       "    }\n",
       "\n",
       "    .dataframe thead th {\n",
       "        text-align: right;\n",
       "    }\n",
       "</style>\n",
       "<table border=\"1\" class=\"dataframe\">\n",
       "  <thead>\n",
       "    <tr style=\"text-align: right;\">\n",
       "      <th></th>\n",
       "      <th>TV</th>\n",
       "      <th>radio</th>\n",
       "      <th>newspaper</th>\n",
       "      <th>sales</th>\n",
       "    </tr>\n",
       "  </thead>\n",
       "  <tbody>\n",
       "    <tr>\n",
       "      <th>123</th>\n",
       "      <td>123.1</td>\n",
       "      <td>34.6</td>\n",
       "      <td>12.4</td>\n",
       "      <td>15.2</td>\n",
       "    </tr>\n",
       "    <tr>\n",
       "      <th>152</th>\n",
       "      <td>197.6</td>\n",
       "      <td>23.3</td>\n",
       "      <td>14.2</td>\n",
       "      <td>16.6</td>\n",
       "    </tr>\n",
       "    <tr>\n",
       "      <th>86</th>\n",
       "      <td>76.3</td>\n",
       "      <td>27.5</td>\n",
       "      <td>16.0</td>\n",
       "      <td>12.0</td>\n",
       "    </tr>\n",
       "    <tr>\n",
       "      <th>19</th>\n",
       "      <td>147.3</td>\n",
       "      <td>23.9</td>\n",
       "      <td>19.1</td>\n",
       "      <td>14.6</td>\n",
       "    </tr>\n",
       "    <tr>\n",
       "      <th>187</th>\n",
       "      <td>191.1</td>\n",
       "      <td>28.7</td>\n",
       "      <td>18.2</td>\n",
       "      <td>17.3</td>\n",
       "    </tr>\n",
       "  </tbody>\n",
       "</table>\n",
       "</div>"
      ],
      "text/plain": [
       "        TV  radio  newspaper  sales\n",
       "123  123.1   34.6       12.4   15.2\n",
       "152  197.6   23.3       14.2   16.6\n",
       "86    76.3   27.5       16.0   12.0\n",
       "19   147.3   23.9       19.1   14.6\n",
       "187  191.1   28.7       18.2   17.3"
      ]
     },
     "execution_count": 52,
     "metadata": {},
     "output_type": "execute_result"
    }
   ],
   "source": [
    "advertising.sample(advertising.shape[0], replace=True).head()"
   ]
  },
  {
   "cell_type": "code",
   "execution_count": 53,
   "metadata": {
    "slideshow": {
     "slide_type": "skip"
    }
   },
   "outputs": [
    {
     "data": {
      "text/plain": [
       "array([2, 1, 1])"
      ]
     },
     "execution_count": 53,
     "metadata": {},
     "output_type": "execute_result"
    }
   ],
   "source": [
    "np.random.choice([1,2,3], size=3)"
   ]
  },
  {
   "cell_type": "code",
   "execution_count": 54,
   "metadata": {
    "slideshow": {
     "slide_type": "skip"
    }
   },
   "outputs": [
    {
     "name": "stdout",
     "output_type": "stream",
     "text": [
      "10 firt intercepts\n",
      "[7.207, 6.79, 7.602, 7.373, 6.826, 6.904, 7.506, 6.867, 7.278, 7.002]\n",
      "10 firt slopes\n",
      "[0.047, 0.048, 0.047, 0.045, 0.049, 0.049, 0.044, 0.049, 0.05, 0.048]\n"
     ]
    }
   ],
   "source": [
    "bootstrap_intercepts = []\n",
    "bootstrap_slopes = []\n",
    "\n",
    "for i in range(50000):\n",
    "    sample_indexes = np.random.choice(advertising.index, size=len(advertising.index))\n",
    "    bootstrap_sample = advertising.iloc[sample_indexes]\n",
    "    lr = linregress(bootstrap_sample[\"TV\"], bootstrap_sample[\"sales\"])    \n",
    "    bootstrap_intercepts.append(round(lr.intercept, 3))\n",
    "    bootstrap_slopes.append(round(lr.slope,3))\n",
    "\n",
    "print(\"10 firt intercepts\")    \n",
    "print(bootstrap_intercepts[:10])\n",
    "print(\"10 firt slopes\")    \n",
    "print(bootstrap_slopes[:10])"
   ]
  },
  {
   "cell_type": "code",
   "execution_count": 55,
   "metadata": {
    "slideshow": {
     "slide_type": "skip"
    }
   },
   "outputs": [
    {
     "data": {
      "image/png": "[encoded data removed]",
      "text/plain": [
       "<Figure size 1152x432 with 1 Axes>"
      ]
     },
     "metadata": {
      "needs_background": "light"
     },
     "output_type": "display_data"
    }
   ],
   "source": [
    "plt.figure(figsize=(16,6))\n",
    "\n",
    "plt.scatter(advertising[\"TV\"], advertising[\"sales\"], alpha=0.2)\n",
    "\n",
    "x_axis = np.arange(-10,320)\n",
    "\n",
    "for i in np.random.choice(range(5000), 1000, replace=False):\n",
    "    y_hat = bootstrap_intercepts[i] + bootstrap_slopes[i] * x_axis\n",
    "    plt.plot(x_axis, y_hat, color='red', alpha=0.2)"
   ]
  },
  {
   "cell_type": "code",
   "execution_count": 56,
   "metadata": {
    "slideshow": {
     "slide_type": "skip"
    }
   },
   "outputs": [
    {
     "name": "stdout",
     "output_type": "stream",
     "text": [
      "[6.394 7.709]\n"
     ]
    },
    {
     "data": {
      "text/plain": [
       "<matplotlib.lines.Line2D at 0x7f99020ac220>"
      ]
     },
     "execution_count": 56,
     "metadata": {},
     "output_type": "execute_result"
    },
    {
     "data": {
      "image/png": "[encoded data removed]",
      "text/plain": [
       "<Figure size 1152x432 with 1 Axes>"
      ]
     },
     "metadata": {
      "needs_background": "light"
     },
     "output_type": "display_data"
    }
   ],
   "source": [
    "plt.figure(figsize=(16,6))\n",
    "_ = plt.hist(bootstrap_intercepts,  edgecolor='black', linewidth=1.2)\n",
    "_ = plt.title(\"Distribution of intercepts\")\n",
    "\n",
    "con_interval = np.percentile(bootstrap_intercepts, [2.5, 97.5])\n",
    "print(con_interval)\n",
    "plt.axvline(con_interval[0], color=\"red\")\n",
    "plt.axvline(con_interval[1], color=\"red\")\n"
   ]
  },
  {
   "cell_type": "code",
   "execution_count": 62,
   "metadata": {
    "slideshow": {
     "slide_type": "slide"
    }
   },
   "outputs": [
    {
     "name": "stdout",
     "output_type": "stream",
     "text": [
      "[0.042 0.053]\n"
     ]
    },
    {
     "data": {
      "text/plain": [
       "<matplotlib.lines.Line2D at 0x7f9902d2c790>"
      ]
     },
     "execution_count": 62,
     "metadata": {},
     "output_type": "execute_result"
    },
    {
     "data": {
      "image/png": "[encoded data removed]",
      "text/plain": [
       "<Figure size 1152x432 with 1 Axes>"
      ]
     },
     "metadata": {
      "needs_background": "light"
     },
     "output_type": "display_data"
    }
   ],
   "source": [
    "plt.figure(figsize=(16,6))\n",
    "_ = plt.hist(bootstrap_slopes,  edgecolor='black', linewidth=1.2)\n",
    "_ = plt.title(\"Distribution of Slopes\")\n",
    "\n",
    "con_interval = np.percentile(bootstrap_slopes, [2.5, 97.5])\n",
    "print(con_interval)\n",
    "plt.axvline(con_interval[0], color=\"red\")\n",
    "plt.axvline(con_interval[1], color=\"red\")\n"
   ]
  },
  {
   "cell_type": "markdown",
   "metadata": {
    "slideshow": {
     "slide_type": "slide"
    }
   },
   "source": [
    "### Stats Model\n",
    "\n",
    "* This information can be found using the Statsmodels package\n",
    "  * We use ordinary least squares model to build the regression model\n",
    "  \n",
    "* Used the statistical language  $R$'s to describe the model\n",
    "  * Here \"~\" can be interpreted as \"a function of\" or \"depends on\"\n",
    "```python\n",
    "sm.ols('sales ~ TV', advertising).fit()\n",
    "```\n",
    "\n",
    "* OLS here refers to Ordinary Least Squares, an estimator (method or algorithm) to find the model parameters\n",
    "  * Minimizes the RSS\n"
   ]
  },
  {
   "cell_type": "code",
   "execution_count": 21,
   "metadata": {
    "slideshow": {
     "slide_type": "slide"
    }
   },
   "outputs": [
    {
     "data": {
      "text/plain": [
       "LinregressResult(slope=0.0475366404330197, intercept=7.032593549127702, rvalue=0.7822244248616063, pvalue=1.4673897001948012e-42, stderr=0.0026906071877968703)"
      ]
     },
     "execution_count": 21,
     "metadata": {},
     "output_type": "execute_result"
    }
   ],
   "source": [
    "linreg = linregress(advertising[\"TV\"], advertising[\"sales\"])"
   ]
  },
  {
   "cell_type": "code",
   "execution_count": 63,
   "metadata": {
    "slideshow": {
     "slide_type": "slide"
    }
   },
   "outputs": [
    {
     "data": {
      "text/html": [
       "<table class=\"simpletable\">\n",
       "<tr>\n",
       "      <td></td>         <th>coef</th>     <th>std err</th>      <th>t</th>      <th>P>|t|</th>  <th>[0.025</th>    <th>0.975]</th>  \n",
       "</tr>\n",
       "<tr>\n",
       "  <th>Intercept</th> <td>    7.0326</td> <td>    0.458</td> <td>   15.360</td> <td> 0.000</td> <td>    6.130</td> <td>    7.935</td>\n",
       "</tr>\n",
       "<tr>\n",
       "  <th>TV</th>        <td>    0.0475</td> <td>    0.003</td> <td>   17.668</td> <td> 0.000</td> <td>    0.042</td> <td>    0.053</td>\n",
       "</tr>\n",
       "</table>"
      ],
      "text/plain": [
       "<class 'statsmodels.iolib.table.SimpleTable'>"
      ]
     },
     "execution_count": 63,
     "metadata": {},
     "output_type": "execute_result"
    }
   ],
   "source": [
    "\n",
    "est = sm.ols('sales ~ TV', advertising).fit()\n",
    "est.summary().tables[1]"
   ]
  },
  {
   "cell_type": "markdown",
   "metadata": {
    "slideshow": {
     "slide_type": "slide"
    }
   },
   "source": [
    "### Interpreting the Simple Linear Regression\n",
    "\n",
    "* $\\beta_0 = 7.03$\n",
    "\n",
    "* The intercept is the expected mean value of y when x=0\n",
    "  * If we spend $0 on V advertising,\n",
    "  the we should expect, on average,  sales of 7.03 thousand units.  \n",
    "\n",
    "* The intercept has no intrinsic meaning when x never equals 0\n",
    "    \n",
    "  \n",
    "$\\beta_1 = 0.0475$\n",
    "\n",
    "*  $\\beta_1$ quantifies the association between that variable and the response.\n",
    "  * The **average** effect on the reponse (y) of a one unit increase in x\n",
    "* Each $1,000 spent on TV advertising  is associated with an increase in sales of approximately 47.5 additional units/"
   ]
  },
  {
   "cell_type": "code",
   "execution_count": 26,
   "metadata": {
    "slideshow": {
     "slide_type": "skip"
    }
   },
   "outputs": [],
   "source": [
    "from statsmodels.stats.outliers_influence import summary_table\n",
    "\n",
    "st, data, ss2 = summary_table(est, alpha=0.05)"
   ]
  },
  {
   "cell_type": "code",
   "execution_count": 31,
   "metadata": {
    "slideshow": {
     "slide_type": "skip"
    }
   },
   "outputs": [
    {
     "data": {
      "text/plain": [
       "(200, 12)"
      ]
     },
     "execution_count": 31,
     "metadata": {},
     "output_type": "execute_result"
    }
   ],
   "source": [
    "data.shape"
   ]
  },
  {
   "cell_type": "code",
   "execution_count": 42,
   "metadata": {
    "slideshow": {
     "slide_type": "skip"
    }
   },
   "outputs": [],
   "source": [
    "fittedvalues = data[:, 2]\n",
    "predict_mean_se  = data[:, 3]\n",
    "predict_mean_ci_low, predict_mean_ci_upp = data[:, 4:6].T\n",
    "predict_ci_low, predict_ci_upp = data[:, 6:8].T"
   ]
  },
  {
   "cell_type": "markdown",
   "metadata": {},
   "source": [
    "### Disambiguation of the Confidence Interval\n",
    "\n",
    "* The 95% interval relates to the mean prediction $y$ for input $x$ \n",
    "  * i.e., the mean value for predictions of type $x$ will be in that confidence interval \n",
    "  * This is what we are after if we are in we are interested in the average behavior\n",
    "* This is not to be confused with the 95% prediction interval of $y$\n",
    "  * i.e., we are 95% confident that the true prediction will be in that interval\n",
    "  * These are the interval we are typically interested if we are after extreme cases\n",
    "  \n",
    " * See https://stats.stackexchange.com/questions/16493/difference-between-confidence-intervals-and-prediction-intervals\n",
    " and https://stackoverflow.com/questions/17559408/confidence-and-prediction-intervals-with-statsmodels"
   ]
  },
  {
   "cell_type": "code",
   "execution_count": 52,
   "metadata": {},
   "outputs": [
    {
     "data": {
      "text/plain": [
       "<matplotlib.legend.Legend at 0x12c04db50>"
      ]
     },
     "execution_count": 52,
     "metadata": {},
     "output_type": "execute_result"
    },
    {
     "data": {
      "image/png": "[encoded data removed]",
      "text/plain": [
       "<Figure size 1152x432 with 1 Axes>"
      ]
     },
     "metadata": {
      "needs_background": "light"
     },
     "output_type": "display_data"
    }
   ],
   "source": [
    "plt.figure(figsize=(16,6))\n",
    "plt.plot(advertising[\"TV\"], advertising[\"sales\"], 'o')\n",
    "plt.plot(advertising[\"TV\"], fittedvalues, '-', lw=2, label=\"Fitted model\")\n",
    "plt.plot(advertising[\"TV\"], predict_ci_low, 'r--', lw=2, label=\"Pred Interval\")\n",
    "plt.plot(advertising[\"TV\"], predict_ci_upp, 'r--', lw=2)\n",
    "plt.plot(advertising[\"TV\"], predict_mean_ci_low, 'k-', lw=0.3, label=\"Conf. Interval (mean)\")\n",
    "plt.plot(advertising[\"TV\"], predict_mean_ci_upp, 'k-', lw=0.3)\n",
    "plt.legend()"
   ]
  },
  {
   "cell_type": "code",
   "execution_count": null,
   "metadata": {},
   "outputs": [],
   "source": [
    "est = sm.ols('sales ~ TV', advertising).fit()\n"
   ]
  },
  {
   "cell_type": "markdown",
   "metadata": {
    "slideshow": {
     "slide_type": "slide"
    }
   },
   "source": [
    "### Multiple Linear Regression\n",
    "\n",
    "* How can we leverarage other information to predict sales \n",
    "  * Naive solution: Build independent regresison and combine results.\n",
    "  \n",
    "  \n",
    "* Problems with the naive solution\n",
    "  * Not completetely clear how to combine the data\n",
    "    * Min or mean, median, etc.? why?\n",
    "  * Each feature ignores the effect of the other features\n",
    "    * Does not account for interactions\n",
    "    \n"
   ]
  },
  {
   "cell_type": "code",
   "execution_count": 55,
   "metadata": {
    "slideshow": {
     "slide_type": "slide"
    }
   },
   "outputs": [
    {
     "data": {
      "text/html": [
       "<table class=\"simpletable\">\n",
       "<tr>\n",
       "      <td></td>         <th>coef</th>     <th>std err</th>      <th>t</th>      <th>P>|t|</th>  <th>[0.025</th>    <th>0.975]</th>  \n",
       "</tr>\n",
       "<tr>\n",
       "  <th>Intercept</th> <td>    9.3116</td> <td>    0.563</td> <td>   16.542</td> <td> 0.000</td> <td>    8.202</td> <td>   10.422</td>\n",
       "</tr>\n",
       "<tr>\n",
       "  <th>radio</th>     <td>    0.2025</td> <td>    0.020</td> <td>    9.921</td> <td> 0.000</td> <td>    0.162</td> <td>    0.243</td>\n",
       "</tr>\n",
       "</table>"
      ],
      "text/plain": [
       "<class 'statsmodels.iolib.table.SimpleTable'>"
      ]
     },
     "execution_count": 55,
     "metadata": {},
     "output_type": "execute_result"
    }
   ],
   "source": [
    "est = sm.ols('sales ~ radio', advertising).fit()\n",
    "est.summary().tables[1]"
   ]
  },
  {
   "cell_type": "code",
   "execution_count": 56,
   "metadata": {
    "slideshow": {
     "slide_type": "slide"
    }
   },
   "outputs": [
    {
     "data": {
      "text/html": [
       "<table class=\"simpletable\">\n",
       "<tr>\n",
       "      <td></td>         <th>coef</th>     <th>std err</th>      <th>t</th>      <th>P>|t|</th>  <th>[0.025</th>    <th>0.975]</th>  \n",
       "</tr>\n",
       "<tr>\n",
       "  <th>Intercept</th> <td>   12.3514</td> <td>    0.621</td> <td>   19.876</td> <td> 0.000</td> <td>   11.126</td> <td>   13.577</td>\n",
       "</tr>\n",
       "<tr>\n",
       "  <th>newspaper</th> <td>    0.0547</td> <td>    0.017</td> <td>    3.300</td> <td> 0.001</td> <td>    0.022</td> <td>    0.087</td>\n",
       "</tr>\n",
       "</table>"
      ],
      "text/plain": [
       "<class 'statsmodels.iolib.table.SimpleTable'>"
      ]
     },
     "execution_count": 56,
     "metadata": {},
     "output_type": "execute_result"
    }
   ],
   "source": [
    "est = sm.ols('sales ~ newspaper', advertising).fit()\n",
    "est.summary().tables[1]"
   ]
  },
  {
   "cell_type": "markdown",
   "metadata": {
    "slideshow": {
     "slide_type": "slide"
    }
   },
   "source": [
    "### Multiple Linear Regression \n",
    "\n",
    "* We re-write our linear regression equation to account for all variables\n",
    "\n",
    "$$\n",
    "y = \\beta_0 + \\beta_1 x_1 + \\beta_2 x_2 + ... + \\beta_p x_p + \\epsilon,\n",
    "$$\n",
    "\n",
    "* Where:\n",
    "  * $p$ is the number of params (variables in the model)\n",
    "  * $\\beta_j$ is the mean effect on y for a unit increase in the predictor $x_i$, holding all the other values constant\n",
    "  \n",
    "\n",
    "* We an use stats model to compute the parms of the new model:\n",
    "\n",
    "$$\n",
    "sales = \\beta_0 ~~+~~ \\beta_1 \\times \\text{TV_budget} ~~+~~ \\beta_2 \\times \\text{radio_budget} ~~+~~\\beta_3 \\times \\text{newspaper_budget} ~~+~~ \\epsilon,\n",
    "$$\n"
   ]
  },
  {
   "cell_type": "markdown",
   "metadata": {
    "slideshow": {
     "slide_type": "slide"
    }
   },
   "source": [
    "### Estimating the Regression Coefficients\n",
    "\n",
    "<img src=\"https://www.dropbox.com/s/xi4tlz6oyg12pig/plane.png?dl=1\">"
   ]
  },
  {
   "cell_type": "code",
   "execution_count": 57,
   "metadata": {
    "slideshow": {
     "slide_type": "slide"
    }
   },
   "outputs": [
    {
     "data": {
      "text/html": [
       "<div>\n",
       "<style scoped>\n",
       "    .dataframe tbody tr th:only-of-type {\n",
       "        vertical-align: middle;\n",
       "    }\n",
       "\n",
       "    .dataframe tbody tr th {\n",
       "        vertical-align: top;\n",
       "    }\n",
       "\n",
       "    .dataframe thead th {\n",
       "        text-align: right;\n",
       "    }\n",
       "</style>\n",
       "<table border=\"1\" class=\"dataframe\">\n",
       "  <thead>\n",
       "    <tr style=\"text-align: right;\">\n",
       "      <th></th>\n",
       "      <th>TV</th>\n",
       "      <th>radio</th>\n",
       "      <th>newspaper</th>\n",
       "      <th>sales</th>\n",
       "    </tr>\n",
       "  </thead>\n",
       "  <tbody>\n",
       "    <tr>\n",
       "      <th>TV</th>\n",
       "      <td>1.000000</td>\n",
       "      <td>0.054809</td>\n",
       "      <td>0.056648</td>\n",
       "      <td>0.782224</td>\n",
       "    </tr>\n",
       "    <tr>\n",
       "      <th>radio</th>\n",
       "      <td>0.054809</td>\n",
       "      <td>1.000000</td>\n",
       "      <td>0.354104</td>\n",
       "      <td>0.576223</td>\n",
       "    </tr>\n",
       "    <tr>\n",
       "      <th>newspaper</th>\n",
       "      <td>0.056648</td>\n",
       "      <td>0.354104</td>\n",
       "      <td>1.000000</td>\n",
       "      <td>0.228299</td>\n",
       "    </tr>\n",
       "    <tr>\n",
       "      <th>sales</th>\n",
       "      <td>0.782224</td>\n",
       "      <td>0.576223</td>\n",
       "      <td>0.228299</td>\n",
       "      <td>1.000000</td>\n",
       "    </tr>\n",
       "  </tbody>\n",
       "</table>\n",
       "</div>"
      ],
      "text/plain": [
       "                 TV     radio  newspaper     sales\n",
       "TV         1.000000  0.054809   0.056648  0.782224\n",
       "radio      0.054809  1.000000   0.354104  0.576223\n",
       "newspaper  0.056648  0.354104   1.000000  0.228299\n",
       "sales      0.782224  0.576223   0.228299  1.000000"
      ]
     },
     "execution_count": 57,
     "metadata": {},
     "output_type": "execute_result"
    }
   ],
   "source": [
    "advertising.corr()"
   ]
  },
  {
   "cell_type": "code",
   "execution_count": 58,
   "metadata": {
    "slideshow": {
     "slide_type": "slide"
    }
   },
   "outputs": [
    {
     "data": {
      "text/html": [
       "<table class=\"simpletable\">\n",
       "<caption>OLS Regression Results</caption>\n",
       "<tr>\n",
       "  <th>Dep. Variable:</th>          <td>sales</td>      <th>  R-squared:         </th> <td>   0.897</td>\n",
       "</tr>\n",
       "<tr>\n",
       "  <th>Model:</th>                   <td>OLS</td>       <th>  Adj. R-squared:    </th> <td>   0.896</td>\n",
       "</tr>\n",
       "<tr>\n",
       "  <th>Method:</th>             <td>Least Squares</td>  <th>  F-statistic:       </th> <td>   570.3</td>\n",
       "</tr>\n",
       "<tr>\n",
       "  <th>Date:</th>             <td>Wed, 02 Dec 2020</td> <th>  Prob (F-statistic):</th> <td>1.58e-96</td>\n",
       "</tr>\n",
       "<tr>\n",
       "  <th>Time:</th>                 <td>22:21:40</td>     <th>  Log-Likelihood:    </th> <td> -386.18</td>\n",
       "</tr>\n",
       "<tr>\n",
       "  <th>No. Observations:</th>      <td>   200</td>      <th>  AIC:               </th> <td>   780.4</td>\n",
       "</tr>\n",
       "<tr>\n",
       "  <th>Df Residuals:</th>          <td>   196</td>      <th>  BIC:               </th> <td>   793.6</td>\n",
       "</tr>\n",
       "<tr>\n",
       "  <th>Df Model:</th>              <td>     3</td>      <th>                     </th>     <td> </td>   \n",
       "</tr>\n",
       "<tr>\n",
       "  <th>Covariance Type:</th>      <td>nonrobust</td>    <th>                     </th>     <td> </td>   \n",
       "</tr>\n",
       "</table>\n",
       "<table class=\"simpletable\">\n",
       "<tr>\n",
       "      <td></td>         <th>coef</th>     <th>std err</th>      <th>t</th>      <th>P>|t|</th>  <th>[0.025</th>    <th>0.975]</th>  \n",
       "</tr>\n",
       "<tr>\n",
       "  <th>Intercept</th> <td>    2.9389</td> <td>    0.312</td> <td>    9.422</td> <td> 0.000</td> <td>    2.324</td> <td>    3.554</td>\n",
       "</tr>\n",
       "<tr>\n",
       "  <th>TV</th>        <td>    0.0458</td> <td>    0.001</td> <td>   32.809</td> <td> 0.000</td> <td>    0.043</td> <td>    0.049</td>\n",
       "</tr>\n",
       "<tr>\n",
       "  <th>radio</th>     <td>    0.1885</td> <td>    0.009</td> <td>   21.893</td> <td> 0.000</td> <td>    0.172</td> <td>    0.206</td>\n",
       "</tr>\n",
       "<tr>\n",
       "  <th>newspaper</th> <td>   -0.0010</td> <td>    0.006</td> <td>   -0.177</td> <td> 0.860</td> <td>   -0.013</td> <td>    0.011</td>\n",
       "</tr>\n",
       "</table>\n",
       "<table class=\"simpletable\">\n",
       "<tr>\n",
       "  <th>Omnibus:</th>       <td>60.414</td> <th>  Durbin-Watson:     </th> <td>   2.084</td>\n",
       "</tr>\n",
       "<tr>\n",
       "  <th>Prob(Omnibus):</th> <td> 0.000</td> <th>  Jarque-Bera (JB):  </th> <td> 151.241</td>\n",
       "</tr>\n",
       "<tr>\n",
       "  <th>Skew:</th>          <td>-1.327</td> <th>  Prob(JB):          </th> <td>1.44e-33</td>\n",
       "</tr>\n",
       "<tr>\n",
       "  <th>Kurtosis:</th>      <td> 6.332</td> <th>  Cond. No.          </th> <td>    454.</td>\n",
       "</tr>\n",
       "</table><br/><br/>Warnings:<br/>[1] Standard Errors assume that the covariance matrix of the errors is correctly specified."
      ],
      "text/plain": [
       "<class 'statsmodels.iolib.summary.Summary'>\n",
       "\"\"\"\n",
       "                            OLS Regression Results                            \n",
       "==============================================================================\n",
       "Dep. Variable:                  sales   R-squared:                       0.897\n",
       "Model:                            OLS   Adj. R-squared:                  0.896\n",
       "Method:                 Least Squares   F-statistic:                     570.3\n",
       "Date:                Wed, 02 Dec 2020   Prob (F-statistic):           1.58e-96\n",
       "Time:                        22:21:40   Log-Likelihood:                -386.18\n",
       "No. Observations:                 200   AIC:                             780.4\n",
       "Df Residuals:                     196   BIC:                             793.6\n",
       "Df Model:                           3                                         \n",
       "Covariance Type:            nonrobust                                         \n",
       "==============================================================================\n",
       "                 coef    std err          t      P>|t|      [0.025      0.975]\n",
       "------------------------------------------------------------------------------\n",
       "Intercept      2.9389      0.312      9.422      0.000       2.324       3.554\n",
       "TV             0.0458      0.001     32.809      0.000       0.043       0.049\n",
       "radio          0.1885      0.009     21.893      0.000       0.172       0.206\n",
       "newspaper     -0.0010      0.006     -0.177      0.860      -0.013       0.011\n",
       "==============================================================================\n",
       "Omnibus:                       60.414   Durbin-Watson:                   2.084\n",
       "Prob(Omnibus):                  0.000   Jarque-Bera (JB):              151.241\n",
       "Skew:                          -1.327   Prob(JB):                     1.44e-33\n",
       "Kurtosis:                       6.332   Cond. No.                         454.\n",
       "==============================================================================\n",
       "\n",
       "Warnings:\n",
       "[1] Standard Errors assume that the covariance matrix of the errors is correctly specified.\n",
       "\"\"\""
      ]
     },
     "execution_count": 58,
     "metadata": {},
     "output_type": "execute_result"
    }
   ],
   "source": [
    "est = sm.ols('sales ~ TV + radio + newspaper', advertising).fit()\n",
    "est.summary()"
   ]
  },
  {
   "cell_type": "markdown",
   "metadata": {
    "collapsed": true,
    "slideshow": {
     "slide_type": "slide"
    }
   },
   "source": [
    "### Model Interpretation\n",
    "\n",
    "<img src=\"https://www.dropbox.com/s/btz9dqkzdxkz5qy/results_table.png?dl=1\" width=400>\n",
    "<br/>\n",
    "* For each additional $1k in TV advertising, we expect, on average, an increase in sales of 45 units\n",
    "\n",
    "* For each additional $1k in radio advertising, we expect, on average, an increase in sales of 188 units\n",
    "\n",
    "* The newspaper spending is not significant and does not contribute to the model\n",
    "    * Why is it different from when tested independently?\n"
   ]
  },
  {
   "cell_type": "markdown",
   "metadata": {
    "slideshow": {
     "slide_type": "slide"
    }
   },
   "source": [
    "### Interaction\n",
    "\n",
    "* Simple linear regression predicts an effect of 0.0547\n",
    "* Multiple linear regression predicts an effect of ~ 0\n",
    "* Recall that the  correlation between radio and newspaper is ~0.35\n",
    "    * Positive correlation indicating that in some cases, spending on radio advertising is accompanied by spending on newspaper  advertising\n",
    "\n",
    "What is happening?\n",
    "\n",
    "* radio advertising leads to increased sales\n",
    "* radio and newspaper are correlated\n",
    "  * radio avertising is accompanied by newspaper advertising\n",
    "* We observe that an increase in newspaper advertising increase sales\n"
   ]
  },
  {
   "cell_type": "markdown",
   "metadata": {
    "slideshow": {
     "slide_type": "slide"
    }
   },
   "source": [
    "### Some Important Concepts to Explore\n",
    "\n",
    "* In the presence of dozens of predictors, the situation above become intractable manually\n",
    "  * Which parameters are linked with which other params?\n",
    "\n",
    "* Including effects that are not there results in  learning \"the wrong thing\"\n",
    "  * Often referred to as overfitting\n",
    "    \n",
    "* \"Identifying the best subset among many variables to include in a model – is arguably the hardest part of model building.\"\n",
    " This is discussed in depth in chapters 3 and of (Introduction to Statistical Learning)\n"
   ]
  }
 ],
 "metadata": {
  "celltoolbar": "Slideshow",
  "hide_input": false,
  "kernelspec": {
   "display_name": "Python 3 (ipykernel)",
   "language": "python",
   "name": "python3"
  },
  "language_info": {
   "codemirror_mode": {
    "name": "ipython",
    "version": 3
   },
   "file_extension": ".py",
   "mimetype": "text/x-python",
   "name": "python",
   "nbconvert_exporter": "python",
   "pygments_lexer": "ipython3",
   "version": "3.8.3"
  }
 },
 "nbformat": 4,
 "nbformat_minor": 2
}
