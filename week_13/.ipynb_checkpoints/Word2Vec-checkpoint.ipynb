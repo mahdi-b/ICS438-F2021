{
 "cells": [
  {
   "cell_type": "code",
   "execution_count": 80,
   "id": "9b1830f4",
   "metadata": {},
   "outputs": [],
   "source": [
    "import numpy as np"
   ]
  },
  {
   "cell_type": "markdown",
   "id": "e516db89",
   "metadata": {},
   "source": [
    "### Word2Vec Embedding Method\n",
    "\n",
    "* Problem with tf-idf word-context embedding\n",
    "    * Long vectors\n",
    "    * Sparse or very close to 0\n",
    "    * Idea we want denser representation that is relatively short\n",
    "     * Dense vectors work better in machine learning\n",
    "       * Better lower-dimensional representations\n",
    "       * Generalize better \n"
   ]
  },
  {
   "cell_type": "markdown",
   "id": "f0feb950",
   "metadata": {},
   "source": [
    "### Taxonomy to Encode Similarity\n",
    "* The lack of context can be added using a taxonomy\n",
    "A taxonomy is a \"knowledge organization system,\" or a data structure (typically a tree or graph) that encodes the terms used in a subject field and their relationships\n",
    "  * can be generic (eg. English Langue taxonomy) or Specific (Computing taxonomy or Amazon Product Taxonomy. \n",
    "* E.g., the WordNet Taxonomy\n",
    "  * Contains 155 327 English words\n",
    "    * https://en.wikipedia.org/wiki/WordNet\n",
    "\n",
    "![](https://www.dropbox.com/s/9kapn0eq6v84g2m/word_net_taxonomy.png?dl=1)\n",
    "https://escholarship.org/content/qt9j8221x8/qt9j8221x8.pdf"
   ]
  },
  {
   "cell_type": "markdown",
   "id": "7a8f4d57",
   "metadata": {},
   "source": [
    "### Problem with Discrete Representations\n",
    "* Do not convey all the relationships \n",
    "    * Coffee and Cup are in completely different subtrees of the taxonomy\n",
    "* Terribly incomplete\n",
    "* Adding new words requires the work of a taxonomist\n",
    "  * Building such taxonomies is complex and complicated\n",
    "* Subjective: depend on a user's experience and prior-belief    \n",
    "  * Subject sometimes of heated debates"
   ]
  },
  {
   "cell_type": "markdown",
   "id": "5c698917",
   "metadata": {},
   "source": [
    "### Why Word2Vec \n",
    "\n",
    "* So far, we assigned IDs to words using their positions in the text\n",
    "\n",
    "* What is the meaning of a word?\n",
    "  * The idea that is represented by a word\n",
    "     * By using words, signs, etc., a person expresses an idea.\n",
    "    \n",
    "* Ideally, we would like to be able to carry out operations on the meaning of words\n",
    " * King - Man + Woman ~ Queen"
   ]
  },
  {
   "cell_type": "markdown",
   "id": "da550fe3",
   "metadata": {},
   "source": [
    "### Explaining Operations on words using Operation on Colors\n",
    "\n",
    "* It turns out that we can already something similar on words representing colors\n",
    "\n",
    "* Ideally, we want to reason about words the same way we reason about colors\n",
    "  * Ex. Red + green = yellow \n",
    "  * Blue - Magenta = Cyan\n",
    "  * Yellow is closer to banana (yellow color) than to green\n",
    "  * Grey is the average of black and white\n",
    "  * Royal is to yellow what sky is to blue\n",
    "  \n",
    "![](https://www.dropbox.com/s/aon76xh7qlu1z2y/colors.png?dl=1)\n",
    "\n",
    "* Inspired by (https://gist.github.com/aparrish/2f562e3737544cf29aaf1af30362f469)\n",
    "\n",
    "\n"
   ]
  },
  {
   "cell_type": "markdown",
   "id": "ffc7eee9",
   "metadata": {},
   "source": [
    "### Operation on Colors\n",
    "\n",
    "* RGB notation can be considered an embedding for the color name.\n",
    "  * Each color name has 3 values representing the level red, green, and blue.\n",
    "* Those values can be used to find similar colors but also to describe more complex relationships\n",
    "  * The colors we will be working with can be viewed [here](https://xkcd.com/color/rgb/)\n",
    "* Keep in mind that the colors were labeled by participants in the `xkcd` color name survey.\n",
    "  * Color names and RGB values may not match colors and values\n",
    "  * We chose this unexact color representation to convey the inexactitude of working with colors"
   ]
  },
  {
   "cell_type": "markdown",
   "id": "86280946",
   "metadata": {},
   "source": [
    "### XKCD and Emacs\n",
    "\n",
    "https://imgs.xkcd.com/comics/real_programmers.png"
   ]
  },
  {
   "cell_type": "code",
   "execution_count": 134,
   "id": "87b4d44e",
   "metadata": {},
   "outputs": [
    {
     "name": "stdout",
     "output_type": "stream",
     "text": [
      "dict_keys(['description', 'colors'])\n",
      "----------------------------------------\n",
      "[{'color': 'cloudy blue', 'hex': '#acc2d9'}, {'color': 'dark pastel green', 'hex': '#56ae57'}, {'color': 'dust', 'hex': '#b2996e'}]\n"
     ]
    }
   ],
   "source": [
    "import json\n",
    "color_data = json.loads(open(\"data/xkcd.json\").read())\n",
    "print(color_data.keys())\n",
    "print(\"-\" * 40)\n",
    "print(color_data[\"colors\"][:3])\n"
   ]
  },
  {
   "cell_type": "code",
   "execution_count": 110,
   "id": "da622d02",
   "metadata": {},
   "outputs": [
    {
     "data": {
      "text/plain": [
       "['ac', 'c2', 'd9']"
      ]
     },
     "execution_count": 110,
     "metadata": {},
     "output_type": "execute_result"
    }
   ],
   "source": [
    "x = '#acc2d9'\n",
    "from textwrap import wrap\n",
    "wrap(x[1:], 2)"
   ]
  },
  {
   "cell_type": "code",
   "execution_count": 111,
   "id": "61fb4a38",
   "metadata": {},
   "outputs": [
    {
     "data": {
      "text/plain": [
       "('ac', 'c2', 'd9')"
      ]
     },
     "execution_count": 111,
     "metadata": {},
     "output_type": "execute_result"
    }
   ],
   "source": [
    "colors = {col_info[\"color\"]:tuple(wrap(col_info[\"hex\"][1:], 2)) for col_info in color_data[\"colors\"]}\n",
    "colors[\"cloudy blue\"]"
   ]
  },
  {
   "cell_type": "code",
   "execution_count": 112,
   "id": "3d77a340",
   "metadata": {},
   "outputs": [
    {
     "data": {
      "text/plain": [
       "(172, 194, 217)"
      ]
     },
     "execution_count": 112,
     "metadata": {},
     "output_type": "execute_result"
    }
   ],
   "source": [
    "int('ac', 16), int('c2', 16), int('d9', 16), "
   ]
  },
  {
   "cell_type": "code",
   "execution_count": 113,
   "id": "c4ee3d4f",
   "metadata": {},
   "outputs": [
    {
     "data": {
      "text/plain": [
       "array([172, 194, 217])"
      ]
     },
     "execution_count": 113,
     "metadata": {},
     "output_type": "execute_result"
    }
   ],
   "source": [
    "colors = {name:np.array(list(int(hex_v, 16) for hex_v in hex_t)) for name,hex_t in colors.items()}\n",
    "colors[\"cloudy blue\"]"
   ]
  },
  {
   "cell_type": "code",
   "execution_count": 114,
   "id": "b5d65262",
   "metadata": {},
   "outputs": [
    {
     "name": "stdout",
     "output_type": "stream",
     "text": [
      "These colors were manually labelled by participants\n",
      "Black is [0 0 0], white is: [255 255 255] and red is [229   0   0]\n"
     ]
    }
   ],
   "source": [
    "print(\"These colors were manually labelled by participants\")\n",
    "print(f\"Black is {colors['black']}, white is: {colors['white']} and red is {colors['red']}\")\n"
   ]
  },
  {
   "cell_type": "markdown",
   "id": "6ec0c0fe",
   "metadata": {},
   "source": [
    "![](https://www.dropbox.com/s/9k2828pyr0nypla/red.png?dl=1)"
   ]
  },
  {
   "cell_type": "code",
   "execution_count": 119,
   "id": "43eb1aac",
   "metadata": {},
   "outputs": [
    {
     "data": {
      "text/plain": [
       "array([2, 3, 4])"
      ]
     },
     "execution_count": 119,
     "metadata": {},
     "output_type": "execute_result"
    }
   ],
   "source": [
    "np.array([1,2,3]) + np.array([1,1,1])"
   ]
  },
  {
   "cell_type": "code",
   "execution_count": 121,
   "id": "c5a28d9c",
   "metadata": {},
   "outputs": [
    {
     "data": {
      "text/plain": [
       "array([0, 1, 2])"
      ]
     },
     "execution_count": 121,
     "metadata": {},
     "output_type": "execute_result"
    }
   ],
   "source": [
    "np.array([1,2,3]) - np.array([1,1,1])"
   ]
  },
  {
   "cell_type": "code",
   "execution_count": 115,
   "id": "7850bd6e",
   "metadata": {},
   "outputs": [
    {
     "data": {
      "text/plain": [
       "324.49036965678965"
      ]
     },
     "execution_count": 115,
     "metadata": {},
     "output_type": "execute_result"
    }
   ],
   "source": [
    "# import numpy as np\n",
    "# Compute the Euclidean Distance in numpy\n",
    "def dist(coord1, coord2):\n",
    "    # Euclidean distance in numpy. \n",
    "    # Function name is explicit and shorter to write\n",
    "    return np.linalg.norm(coord1 - coord2)\n",
    "    \n",
    "distance(colors['red'], colors['blue'])\n",
    "\n"
   ]
  },
  {
   "cell_type": "code",
   "execution_count": 125,
   "id": "7c1dc52a",
   "metadata": {},
   "outputs": [
    {
     "data": {
      "text/plain": [
       "array([1., 2., 3.])"
      ]
     },
     "execution_count": 125,
     "metadata": {},
     "output_type": "execute_result"
    }
   ],
   "source": [
    "np.mean([[1,2,3], [1,2,3], [1,2,3]], axis =0)"
   ]
  },
  {
   "cell_type": "code",
   "execution_count": 133,
   "id": "385bf357",
   "metadata": {},
   "outputs": [
    {
     "data": {
      "text/plain": [
       "True"
      ]
     },
     "execution_count": 133,
     "metadata": {},
     "output_type": "execute_result"
    }
   ],
   "source": [
    "dist(colors['red'], colors['green']) > dist(colors['red'], colors['pink'])"
   ]
  },
  {
   "cell_type": "code",
   "execution_count": 137,
   "id": "5d9ad5ea",
   "metadata": {},
   "outputs": [
    {
     "data": {
      "text/plain": [
       "['red', 'fire engine red', 'bright red', 'tomato red', 'cherry red']"
      ]
     },
     "execution_count": 137,
     "metadata": {},
     "output_type": "execute_result"
    }
   ],
   "source": [
    "\n",
    "def closest(colors, coord, n=10):\n",
    "    closest = []\n",
    "    for key in sorted(colors.keys(),\n",
    "                        key=lambda x: distance(coord, colors[x]))[:n]:\n",
    "        closest.append(key)\n",
    "    return closest\n",
    "\n",
    "closest(colors, colors['red'], n=5)"
   ]
  },
  {
   "cell_type": "markdown",
   "id": "9da23e26",
   "metadata": {},
   "source": [
    "### Using The Color \"Embeddings\"\n",
    "\n",
    "* We can use the embeddings to carry out operations on colors\n",
    "  * recall that the operations we were interested in:\n",
    "     * Ex. Red + green = yellow \n",
    "     * Magenta - blue = (red + blue) - blue = red\n",
    "     * Yellow is closer to Royal than to Green\n",
    "     * Grey is the average of black and white\n",
    "     * Banana is to yellow what hunter green is to green\n"
   ]
  },
  {
   "cell_type": "code",
   "execution_count": 141,
   "id": "da42f40c",
   "metadata": {},
   "outputs": [
    {
     "data": {
      "text/plain": [
       "['squash', 'orangey yellow', 'yellowish orange', 'saffron', 'amber']"
      ]
     },
     "execution_count": 141,
     "metadata": {},
     "output_type": "execute_result"
    }
   ],
   "source": [
    "### Red + green = yellow  \n",
    "some_color = colors[\"red\"] + colors[\"green\"]\n",
    "closest(colors, some_color, n=5)\n",
    "\n"
   ]
  },
  {
   "cell_type": "code",
   "execution_count": 144,
   "id": "54ed8ecd",
   "metadata": {},
   "outputs": [
    {
     "data": {
      "text/plain": [
       "['red', 'deep red', 'blood red', 'darkish red', 'dark red']"
      ]
     },
     "execution_count": 144,
     "metadata": {},
     "output_type": "execute_result"
    }
   ],
   "source": [
    "some_color = colors[\"magenta\"] - colors[\"blue\"]\n",
    "closest(colors, some_color, n=5)\n"
   ]
  },
  {
   "cell_type": "code",
   "execution_count": 147,
   "id": "37ddad43",
   "metadata": {},
   "outputs": [
    {
     "data": {
      "text/plain": [
       "True"
      ]
     },
     "execution_count": 147,
     "metadata": {},
     "output_type": "execute_result"
    }
   ],
   "source": [
    "dist(colors[\"yellow\"], colors[\"banana\"]) < dist(colors[\"yellow\"], colors[\"green\"])\n"
   ]
  },
  {
   "cell_type": "code",
   "execution_count": 150,
   "id": "fcbbf8e2",
   "metadata": {},
   "outputs": [
    {
     "data": {
      "text/plain": [
       "['medium grey', 'purple grey', 'steel grey', 'battleship grey', 'grey purple']"
      ]
     },
     "execution_count": 150,
     "metadata": {},
     "output_type": "execute_result"
    }
   ],
   "source": [
    "some_color =  np.mean([colors['black'], colors['white']], axis=0)\n",
    "closest(colors, some_color, n=5)\n"
   ]
  },
  {
   "cell_type": "code",
   "execution_count": null,
   "id": "867a0d8f",
   "metadata": {},
   "outputs": [],
   "source": [
    "some_color =  np.mean([colors['black'], colors['white']], axis=0)\n",
    "closest(colors, some_color, n=5)\n"
   ]
  },
  {
   "cell_type": "code",
   "execution_count": 152,
   "id": "354298b2",
   "metadata": {},
   "outputs": [
    {
     "data": {
      "text/plain": [
       "array([  0,   0, 106])"
      ]
     },
     "execution_count": 152,
     "metadata": {},
     "output_type": "execute_result"
    }
   ],
   "source": [
    "some_color"
   ]
  },
  {
   "cell_type": "code",
   "execution_count": 161,
   "id": "5c32224f",
   "metadata": {},
   "outputs": [
    {
     "data": {
      "text/plain": [
       "['true green',\n",
       " 'grassy green',\n",
       " 'vibrant green',\n",
       " 'grass green',\n",
       " 'dark grass green']"
      ]
     },
     "execution_count": 161,
     "metadata": {},
     "output_type": "execute_result"
    }
   ],
   "source": [
    "some_color = colors['yellow'] - colors['banana'] + colors['green']\n",
    "\n",
    "closest(colors, some_color, n=5)\n"
   ]
  },
  {
   "cell_type": "markdown",
   "id": "af065e45",
   "metadata": {},
   "source": [
    "### Relationship Between Colors\n",
    "\n",
    "* Banana yellow is to yellow what Hunter Green\n",
    "  * Derived from the exact diagram\n",
    "  \n",
    "```\n",
    "some_color = colors['yellow'] - colors['banana'] + colors['green']\n",
    "closest(colors, some_color, n=5)\n",
    "\n",
    "['true green',\n",
    " 'grassy green',\n",
    " 'vibrant green',\n",
    " 'grass green',\n",
    " 'dark grass green']\n",
    "```\n",
    "![](https://www.dropbox.com/s/tjgnw6cwf0kwju8/green_prediction.png?dl=1)"
   ]
  },
  {
   "cell_type": "markdown",
   "id": "f6a54766",
   "metadata": {},
   "source": [
    "### From Colors to Words\n",
    "\n",
    "* The operations on colors seen above are facilitated by the embedding which conveys a meaningful representation of the data.\n",
    "* Similarly, Word2Vec conveys meaningful representations of words\n",
    "  * Each distinct word has a distinct vector\n",
    "  * Mathematical operations on the vectors convey semantic similarity \n",
    "    * Semantic means as they relate to the meaning in language\n",
    "  \n",
    "    "
   ]
  },
  {
   "cell_type": "markdown",
   "id": "75cf6688",
   "metadata": {},
   "source": [
    "### Word2Vec Intuition\n",
    "\n",
    "* \"You shall know a word by the company it keeps\" J.R Firth, Studies in Linguistic Analysis 1957\n",
    "\n",
    "*  Paris is a city and the _ of France\n",
    "  * Which of the words can be used to fill in the gap?\n",
    "     * pretzel, pizza, capital, painting, shame\n",
    "\n",
    "* We can answer by predicting the likelihood of observing the works in a given context\n",
    "\n",
    "* You could understand in which context a word should arise, then you understand the meaning of a word.\n",
    "  * Very powerful concept that is used for building language models\n",
    "    \n",
    "\n",
    "\n",
    "\n"
   ]
  },
  {
   "cell_type": "code",
   "execution_count": null,
   "id": "752f210a",
   "metadata": {},
   "outputs": [],
   "source": [
    "### Language Model\n",
    "\n",
    "\n",
    "* A language model is central to many important natural language processing tasks.    \n",
    "\n",
    "```Language modeling is the task of assigning a probability to sentences in a language. […] Besides assigning a probability to each sequence of words, the language models also assign a probability for the likelihood of a given word (or a sequence of words) to follow a sequence of words. ``` \n",
    "\n",
    "        From `Neural Network Methods in Natural Language Processing,`\n",
    "* Word2Vec is not a language model but is a good tool for reasoning about the semantic relationship between words\n"
   ]
  },
  {
   "cell_type": "code",
   "execution_count": null,
   "id": "d5424acd",
   "metadata": {},
   "outputs": [],
   "source": [
    "# Word2VEc Intuition\n",
    "\n",
    "* Given a  large corpus (“body”) of text \n",
    " * words in a fixed vocabulary is represented by a vector\n",
    "* Go through each position t in the text, which has a center word c and context \n",
    "(“outside”) words o\n",
    "* Use the similarity of the word vectors for c and o to calculate the probability of o given \n",
    "c (or vice versa)\n",
    "* Keep adjusting the word vectors to maximize this probability"
   ]
  },
  {
   "cell_type": "markdown",
   "id": "b6f5e61c",
   "metadata": {},
   "source": [
    "### Country and capital representatiosn\n",
    "* The sort of reltionship we will observe in a corpus between Pairs and France will be similar to that observed between Tokyo and Japan \n",
    "\n",
    " * Paris is the capital of France\n",
    " * X is the embrassard in Paris, France\n",
    " * The summit was held at the residence of the French head of government in Paris \n",
    "* We can imagine scenarios where the senteces above can be used for any of the counties capitals.\n",
    "![](https://www.dropbox.com/s/mwdh6z9qc0pflyy/capitals_example.png?dl=1)"
   ]
  },
  {
   "cell_type": "code",
   "execution_count": null,
   "id": "4e257555",
   "metadata": {},
   "outputs": [],
   "source": [
    "See demo at: https://projector.tensorflow.org/\n"
   ]
  },
  {
   "cell_type": "markdown",
   "id": "d8dda6b3",
   "metadata": {},
   "source": [
    "### From Linear Regression to Neural Networks\n",
    "\n",
    "\n",
    "![](https://www.dropbox.com/s/1irycgrzu6rtk8c/simple_network.png?dl=1)\n",
    "\n",
    "From [https://www.freecodecamp.org](https://www.freecodecamp.org/news/deep-learning-neural-networks-explained-in-plain-english/)"
   ]
  },
  {
   "cell_type": "markdown",
   "id": "707bb12f",
   "metadata": {},
   "source": [
    "### Non-Linear Regression\n",
    "\n",
    "![](https://www.dropbox.com/s/afjm2oqqa4nh7k8/non_linear.png?dl=1)\n",
    "\n",
    "Neurons in the hidden contain non-linear transformations(activation function) that allow the model to mimim a non-lienar function\n",
    "\n",
    "From [https://www.freecodecamp.org](https://www.freecodecamp.org/news/deep-learning-neural-networks-explained-in-plain-english/)\n",
    "\n"
   ]
  },
  {
   "cell_type": "markdown",
   "id": "46c988e0",
   "metadata": {},
   "source": [
    "### Neural Networks For classification\n",
    "\n",
    "![](https://www.dropbox.com/s/zv6vp6u6gghyw2h/network_classification.png?dl=1)\n",
    "from[https://towardsdatascience.com/coding-up-a-neural-network-classifier-from-scratch-977d235d8a24](https://towardsdatascience.com/coding-up-a-neural-network-classifier-from-scratch-977d235d8a24)"
   ]
  },
  {
   "cell_type": "markdown",
   "id": "2cb19d8f",
   "metadata": {},
   "source": [
    "### Skipgram Training Data\n",
    "\n",
    "![](https://www.dropbox.com/s/dy7e6tp9zg8d7jv/w2v_example_1.png?dl=1)\n"
   ]
  },
  {
   "cell_type": "markdown",
   "id": "deeff9c3",
   "metadata": {},
   "source": [
    "### Skipgram Algorithms\n",
    "\n",
    "![](https://www.dropbox.com/s/ykyjsroxu1utwd0/skipgram.png?dl=1)"
   ]
  },
  {
   "cell_type": "markdown",
   "id": "36412c7f",
   "metadata": {},
   "source": [
    "### The CBOW Algorithm\n",
    "![](https://www.dropbox.com/s/sae7f1sp84xuwwy/cbow.png?dl=1)"
   ]
  },
  {
   "cell_type": "code",
   "execution_count": null,
   "id": "6c99fc61",
   "metadata": {},
   "outputs": [],
   "source": [
    "### Word2Vec Versus More Modern Representations\n",
    "\n",
    "* Word2Vec are Static Embedding\n",
    "\n",
    "\n",
    "* There is a unique embedding for each word\n",
    "  * As opposed to recent methods that are context specific\n",
    "  * Typically based on complex Deep Learning methods\n",
    "  \n",
    "\n",
    "* Fast and easy to compute \n",
    "  * no need to use labelled text. We use runnig text as examples\n"
   ]
  },
  {
   "cell_type": "code",
   "execution_count": null,
   "id": "6aee6cf8",
   "metadata": {},
   "outputs": [],
   "source": []
  }
 ],
 "metadata": {
  "kernelspec": {
   "display_name": "Python 3 (ipykernel)",
   "language": "python",
   "name": "python3"
  },
  "language_info": {
   "codemirror_mode": {
    "name": "ipython",
    "version": 3
   },
   "file_extension": ".py",
   "mimetype": "text/x-python",
   "name": "python",
   "nbconvert_exporter": "python",
   "pygments_lexer": "ipython3",
   "version": "3.8.3"
  }
 },
 "nbformat": 4,
 "nbformat_minor": 5
}
