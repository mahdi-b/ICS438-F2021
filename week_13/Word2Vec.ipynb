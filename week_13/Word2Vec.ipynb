{
 "cells": [
  {
   "cell_type": "code",
   "execution_count": 11,
   "id": "55e7e8d5",
   "metadata": {},
   "outputs": [],
   "source": [
    "import numpy as np"
   ]
  },
  {
   "cell_type": "markdown",
   "id": "00d05e5d",
   "metadata": {},
   "source": [
    "### Word2Vec Embedding Method\n",
    "\n",
    "* Problem with tf-idf word-context embedding\n",
    "    * Long vectors\n",
    "    * Sparse or very close to 0\n",
    "    * Idea we want denser representation that is relatively short\n",
    "     * Dense vectors work better in machine learning\n",
    "       * Better lower-dimensional representations\n",
    "       * Generalize better \n"
   ]
  },
  {
   "cell_type": "markdown",
   "id": "b77cafd1",
   "metadata": {},
   "source": [
    "### Taxonomy to Encode Similarity\n",
    "* The lack of context can be added using a taxonomy\n",
    "A taxonomy is a \"knowledge organization system,\" or a data structure (typically a tree or graph) that encodes the terms used in a subject field and their relationships\n",
    "  * can be generic (eg. English Langue taxonomy) or Specific (Computing taxonomy or Amazon Product Taxonomy. \n",
    "* E.g., the WordNet Taxonomy\n",
    "  * Contains 155 327 English words\n",
    "    * https://en.wikipedia.org/wiki/WordNet\n",
    "\n",
    "![](https://www.dropbox.com/s/9kapn0eq6v84g2m/word_net_taxonomy.png?dl=1)\n",
    "https://escholarship.org/content/qt9j8221x8/qt9j8221x8.pdf"
   ]
  },
  {
   "cell_type": "markdown",
   "id": "10ec8889",
   "metadata": {},
   "source": [
    "### Problem with Discrete Representations\n",
    "* Do not convey all the relationships \n",
    "    * Coffee and Cup are in completely different subtrees of the taxonomy\n",
    "* Terribly incomplete\n",
    "* Adding new words requires the work of a taxonomist\n",
    "  * Building such taxonomies is complex and complicated\n",
    "* Subjective: depend on a user's experience and prior-belief    \n",
    "  * Subject sometimes of heated debates"
   ]
  },
  {
   "cell_type": "markdown",
   "id": "259976ed",
   "metadata": {},
   "source": [
    "### Why Word2Vec \n",
    "\n",
    "* So far, we assigned IDs to words using their positions in the text\n",
    "\n",
    "* What is the meaning of a word?\n",
    "  * The idea that is represented by a word\n",
    "     * By using words, signs, etc., a person expresses an idea.\n",
    "    \n",
    "* Ideally, we would like to be able to carry out operations on the meaning of words\n",
    " * King - Man + Woman ~ Queen"
   ]
  },
  {
   "cell_type": "markdown",
   "id": "117e44c9",
   "metadata": {},
   "source": [
    "### Explaining Operations on words using Operation on Colors\n",
    "\n",
    "* It turns out that we can already something similar on words representing colors\n",
    "\n",
    "* Ideally, we want to reason about words the same way we reason about colors\n",
    "  * Ex. Red + green = yellow \n",
    "  * Blue - Magenta = Cyan\n",
    "  * Yellow is closer to banana (yellow color) than to green\n",
    "  * Grey is the average of black and white\n",
    "  * Royal is to yellow what sky is to blue\n",
    "  \n",
    "![](https://www.dropbox.com/s/aon76xh7qlu1z2y/colors.png?dl=1)\n",
    "\n",
    "* Inspired by (https://gist.github.com/aparrish/2f562e3737544cf29aaf1af30362f469)\n",
    "\n",
    "\n"
   ]
  },
  {
   "cell_type": "code",
   "execution_count": 2,
   "id": "88b64b61",
   "metadata": {},
   "outputs": [
    {
     "data": {
      "text/plain": [
       "255"
      ]
     },
     "execution_count": 2,
     "metadata": {},
     "output_type": "execute_result"
    }
   ],
   "source": [
    "int(\"FF\", 16)"
   ]
  },
  {
   "cell_type": "markdown",
   "id": "3d38ff78",
   "metadata": {},
   "source": [
    "### Operation on Colors\n",
    "\n",
    "* RGB notation can be considered an embedding for the color name.\n",
    "  * Each color name has 3 values representing the level red, green, and blue.\n",
    "* Those values can be used to find similar colors but also to describe more complex relationships\n",
    "  * The colors we will be working with can be viewed [here](https://xkcd.com/color/rgb/)\n",
    "* Keep in mind that the colors were labeled by participants in the `xkcd` color name survey.\n",
    "  * Color names and RGB values may not match colors and values\n",
    "  * We chose this unexact color representation to convey the inexactitude of working with words"
   ]
  },
  {
   "cell_type": "markdown",
   "id": "27bcf8c3",
   "metadata": {},
   "source": [
    "### XKCD and Emacs\n",
    "\n",
    "![](https://imgs.xkcd.com/comics/real_programmers.png)"
   ]
  },
  {
   "cell_type": "code",
   "execution_count": 5,
   "id": "1ff93dba",
   "metadata": {},
   "outputs": [
    {
     "name": "stdout",
     "output_type": "stream",
     "text": [
      "dict_keys(['description', 'colors'])\n",
      "----------------------------------------\n",
      "[{'color': 'cloudy blue', 'hex': '#acc2d9'}, {'color': 'dark pastel green', 'hex': '#56ae57'}, {'color': 'dust', 'hex': '#b2996e'}]\n"
     ]
    }
   ],
   "source": [
    "import json\n",
    "color_data = json.loads(open(\"data/xkcd.json\").read())\n",
    "print(color_data.keys())\n",
    "print(\"-\" * 40)\n",
    "print(color_data[\"colors\"][:3])\n"
   ]
  },
  {
   "cell_type": "code",
   "execution_count": 6,
   "id": "0a0d0fd1",
   "metadata": {},
   "outputs": [
    {
     "data": {
      "text/plain": [
       "['ac', 'c2', 'd9']"
      ]
     },
     "execution_count": 6,
     "metadata": {},
     "output_type": "execute_result"
    }
   ],
   "source": [
    "x = '#acc2d9'\n",
    "from textwrap import wrap\n",
    "wrap(x[1:], 2)"
   ]
  },
  {
   "cell_type": "code",
   "execution_count": 7,
   "id": "b3e3de8a",
   "metadata": {},
   "outputs": [
    {
     "data": {
      "text/plain": [
       "('ac', 'c2', 'd9')"
      ]
     },
     "execution_count": 7,
     "metadata": {},
     "output_type": "execute_result"
    }
   ],
   "source": [
    "colors = {col_info[\"color\"]:tuple(wrap(col_info[\"hex\"][1:], 2)) for col_info in color_data[\"colors\"]}\n",
    "colors[\"cloudy blue\"]"
   ]
  },
  {
   "cell_type": "code",
   "execution_count": 12,
   "id": "f1f4071a",
   "metadata": {},
   "outputs": [
    {
     "data": {
      "text/plain": [
       "(172, 194, 217)"
      ]
     },
     "execution_count": 12,
     "metadata": {},
     "output_type": "execute_result"
    }
   ],
   "source": [
    "int('ac', 16), int('c2', 16), int('d9', 16), "
   ]
  },
  {
   "cell_type": "code",
   "execution_count": 13,
   "id": "09b87ef3",
   "metadata": {},
   "outputs": [
    {
     "data": {
      "text/plain": [
       "array([172, 194, 217])"
      ]
     },
     "execution_count": 13,
     "metadata": {},
     "output_type": "execute_result"
    }
   ],
   "source": [
    "colors = {name:np.array(list(int(hex_v, 16) for hex_v in hex_t)) for name,hex_t in colors.items()}\n",
    "colors[\"cloudy blue\"]"
   ]
  },
  {
   "cell_type": "code",
   "execution_count": 14,
   "id": "fde0c04a",
   "metadata": {},
   "outputs": [
    {
     "name": "stdout",
     "output_type": "stream",
     "text": [
      "These colors were manually labelled by participants\n",
      "Black is [0 0 0], white is: [255 255 255] and red is [229   0   0]\n"
     ]
    }
   ],
   "source": [
    "print(\"These colors were manually labelled by participants\")\n",
    "print(f\"Black is {colors['black']}, white is: {colors['white']} and red is {colors['red']}\")\n"
   ]
  },
  {
   "cell_type": "markdown",
   "id": "b39e6de5",
   "metadata": {},
   "source": [
    "![](https://www.dropbox.com/s/9k2828pyr0nypla/red.png?dl=1)"
   ]
  },
  {
   "cell_type": "code",
   "execution_count": 15,
   "id": "3c945976",
   "metadata": {},
   "outputs": [
    {
     "data": {
      "text/plain": [
       "array([2, 3, 4])"
      ]
     },
     "execution_count": 15,
     "metadata": {},
     "output_type": "execute_result"
    }
   ],
   "source": [
    "np.array([1,2,3]) + np.array([1,1,1])"
   ]
  },
  {
   "cell_type": "code",
   "execution_count": 16,
   "id": "ecc6e1d7",
   "metadata": {},
   "outputs": [
    {
     "data": {
      "text/plain": [
       "array([0, 1, 2])"
      ]
     },
     "execution_count": 16,
     "metadata": {},
     "output_type": "execute_result"
    }
   ],
   "source": [
    "np.array([1,2,3]) - np.array([1,1,1])"
   ]
  },
  {
   "cell_type": "code",
   "execution_count": 17,
   "id": "d1d0e7a3",
   "metadata": {},
   "outputs": [
    {
     "data": {
      "text/plain": [
       "324.49036965678965"
      ]
     },
     "execution_count": 17,
     "metadata": {},
     "output_type": "execute_result"
    }
   ],
   "source": [
    "# import numpy as np\n",
    "# Compute the Euclidean Distance in numpy\n",
    "def dist(coord1, coord2):\n",
    "    # Euclidean distance in numpy. \n",
    "    # Function name is explicit and shorter to write\n",
    "    return np.linalg.norm(coord1 - coord2)\n",
    "    \n",
    "dist(colors['red'], colors['blue'])\n",
    "\n"
   ]
  },
  {
   "cell_type": "code",
   "execution_count": 18,
   "id": "bf4e9a27",
   "metadata": {},
   "outputs": [
    {
     "data": {
      "text/plain": [
       "array([1., 2., 3.])"
      ]
     },
     "execution_count": 18,
     "metadata": {},
     "output_type": "execute_result"
    }
   ],
   "source": [
    "np.mean([[1,2,3], [1,2,3], [1,2,3]], axis =0)"
   ]
  },
  {
   "cell_type": "code",
   "execution_count": 133,
   "id": "b3c8aca3",
   "metadata": {},
   "outputs": [
    {
     "data": {
      "text/plain": [
       "True"
      ]
     },
     "execution_count": 133,
     "metadata": {},
     "output_type": "execute_result"
    }
   ],
   "source": [
    "dist(colors['red'], colors['green']) > dist(colors['red'], colors['pink'])"
   ]
  },
  {
   "cell_type": "code",
   "execution_count": 137,
   "id": "ef620e16",
   "metadata": {},
   "outputs": [
    {
     "data": {
      "text/plain": [
       "['red', 'fire engine red', 'bright red', 'tomato red', 'cherry red']"
      ]
     },
     "execution_count": 137,
     "metadata": {},
     "output_type": "execute_result"
    }
   ],
   "source": [
    "def closest(colors, coord, n=10):\n",
    "    closest = []\n",
    "    for key in sorted(colors.keys(),\n",
    "                        key=lambda x: distance(coord, colors[x]))[:n]:\n",
    "        closest.append(key)\n",
    "    return closest\n",
    "\n",
    "closest(colors, colors['red'], n=5)"
   ]
  },
  {
   "cell_type": "markdown",
   "id": "e0534da5",
   "metadata": {},
   "source": [
    "### Using The Color \"Embeddings\"\n",
    "\n",
    "* We can use the embeddings to carry out operations on colors\n",
    "  * recall that the operations we were interested in:\n",
    "     * Ex. Red + green = yellow \n",
    "     * Magenta - blue = (red + blue) - blue = red\n",
    "     * Yellow is closer to Royal than to Green\n",
    "     * Grey is the average of black and white\n",
    "     * Banana is to yellow what hunter green is to green\n"
   ]
  },
  {
   "cell_type": "code",
   "execution_count": 141,
   "id": "e289ac19",
   "metadata": {},
   "outputs": [
    {
     "data": {
      "text/plain": [
       "['squash', 'orangey yellow', 'yellowish orange', 'saffron', 'amber']"
      ]
     },
     "execution_count": 141,
     "metadata": {},
     "output_type": "execute_result"
    }
   ],
   "source": [
    "### Red + green = yellow  \n",
    "some_color = colors[\"red\"] + colors[\"green\"]\n",
    "closest(colors, some_color, n=5)"
   ]
  },
  {
   "cell_type": "code",
   "execution_count": 144,
   "id": "30985f05",
   "metadata": {},
   "outputs": [
    {
     "data": {
      "text/plain": [
       "['red', 'deep red', 'blood red', 'darkish red', 'dark red']"
      ]
     },
     "execution_count": 144,
     "metadata": {},
     "output_type": "execute_result"
    }
   ],
   "source": [
    "some_color = colors[\"magenta\"] - colors[\"blue\"]\n",
    "closest(colors, some_color, n=5)\n"
   ]
  },
  {
   "cell_type": "code",
   "execution_count": 147,
   "id": "2dbf2f77",
   "metadata": {},
   "outputs": [
    {
     "data": {
      "text/plain": [
       "True"
      ]
     },
     "execution_count": 147,
     "metadata": {},
     "output_type": "execute_result"
    }
   ],
   "source": [
    "dist(colors[\"yellow\"], colors[\"banana\"]) < dist(colors[\"yellow\"], colors[\"green\"])\n"
   ]
  },
  {
   "cell_type": "code",
   "execution_count": 150,
   "id": "60350b42",
   "metadata": {},
   "outputs": [
    {
     "data": {
      "text/plain": [
       "['medium grey', 'purple grey', 'steel grey', 'battleship grey', 'grey purple']"
      ]
     },
     "execution_count": 150,
     "metadata": {},
     "output_type": "execute_result"
    }
   ],
   "source": [
    "some_color =  np.mean([colors['black'], colors['white']], axis=0)\n",
    "closest(colors, some_color, n=5)\n"
   ]
  },
  {
   "cell_type": "code",
   "execution_count": null,
   "id": "ad36ae02",
   "metadata": {},
   "outputs": [],
   "source": [
    "some_color =  np.mean([colors['black'], colors['white']], axis=0)\n",
    "closest(colors, some_color, n=5)\n"
   ]
  },
  {
   "cell_type": "code",
   "execution_count": 152,
   "id": "97d5358e",
   "metadata": {},
   "outputs": [
    {
     "data": {
      "text/plain": [
       "array([  0,   0, 106])"
      ]
     },
     "execution_count": 152,
     "metadata": {},
     "output_type": "execute_result"
    }
   ],
   "source": [
    "some_color"
   ]
  },
  {
   "cell_type": "code",
   "execution_count": 161,
   "id": "261693cf",
   "metadata": {},
   "outputs": [
    {
     "data": {
      "text/plain": [
       "['true green',\n",
       " 'grassy green',\n",
       " 'vibrant green',\n",
       " 'grass green',\n",
       " 'dark grass green']"
      ]
     },
     "execution_count": 161,
     "metadata": {},
     "output_type": "execute_result"
    }
   ],
   "source": [
    "some_color = colors['yellow'] - colors['banana'] + colors['green']\n",
    "\n",
    "closest(colors, some_color, n=5)\n"
   ]
  },
  {
   "cell_type": "markdown",
   "id": "d71bb2d5",
   "metadata": {},
   "source": [
    "### Relationship Between Colors\n",
    "\n",
    "* Banana yellow is to yellow what Hunter Green\n",
    "  * Derived from the exact diagram\n",
    "  \n",
    "```\n",
    "some_color = colors['yellow'] - colors['banana'] + colors['green']\n",
    "closest(colors, some_color, n=5)\n",
    "\n",
    "['true green',\n",
    " 'grassy green',\n",
    " 'vibrant green',\n",
    " 'grass green',\n",
    " 'dark grass green']\n",
    "```\n",
    "![](https://www.dropbox.com/s/tjgnw6cwf0kwju8/green_prediction.png?dl=1)"
   ]
  },
  {
   "cell_type": "markdown",
   "id": "436b3497",
   "metadata": {},
   "source": [
    "### From Colors to Words\n",
    "\n",
    "* The operations on colors seen above are facilitated by the embedding which conveys a meaningful representation of the data.\n",
    "* Similarly, Word2Vec conveys meaningful representations of words\n",
    "  * Each distinct word has a distinct vector\n",
    "  * Mathematical operations on the vectors convey semantic similarity \n",
    "    * Semantic means as they relate to the meaning in language\n",
    "  \n",
    "    "
   ]
  },
  {
   "cell_type": "markdown",
   "id": "a21d4666",
   "metadata": {},
   "source": [
    "### Word2Vec Intuition\n",
    "\n",
    "* \"You shall know a word by the company it keeps\" J.R Firth, Studies in Linguistic Analysis 1957\n",
    "\n",
    "*  Paris is a city and the _ of France\n",
    "  * Which of the words can be used to fill in the gap?\n",
    "     * pretzel, pizza, capital, painting, shame\n",
    "\n",
    "* We can answer by predicting the likelihood of observing the works in a given context\n",
    "\n",
    "* You could understand in which context a word should arise, then you understand the meaning of a word.\n",
    "  * Very powerful concept that is used for building language models\n",
    "    \n",
    "\n",
    "\n",
    "\n"
   ]
  },
  {
   "cell_type": "markdown",
   "id": "098525a1",
   "metadata": {},
   "source": [
    "### Language Model\n",
    "\n",
    "\n",
    "* A language model is central to many important natural language processing tasks.    \n",
    "\n",
    "```Language modeling is the task of assigning a probability to sentences in a language. […] Besides assigning a probability to each sequence of words, the language models also assign a probability for the likelihood of a given word (or a sequence of words) to follow a sequence of words. ``` \n",
    "\n",
    "        From `Neural Network Methods in Natural Language Processing,`\n",
    "* Word2Vec is not a language model but is a good tool for reasoning about the semantic relationship between words\n"
   ]
  },
  {
   "cell_type": "markdown",
   "id": "0839678a",
   "metadata": {},
   "source": [
    "# Word2VEc Intuition\n",
    "\n",
    "* Given a large corpus (“body”) of text \n",
    " * words in a fixed vocabulary are represented by a vector\n",
    "* Go through each position t in the text, which has a center word c and context \n",
    "(“outside”) words o\n",
    "* Use the similarity of the word vectors for c and o to calculate the probability of o given \n",
    "c (or vice versa)\n",
    "* Keep adjusting the word vectors to maximize this probability"
   ]
  },
  {
   "cell_type": "markdown",
   "id": "0b54525e",
   "metadata": {},
   "source": [
    "### Country and Capital Representations\n",
    "* The sort of relationship we will observe in a corpus between Pairs and France will be similar to that observed between Tokyo and Japan \n",
    "\n",
    " * Paris is the capital of France\n",
    " * X is the embassador of France in Pairs.\n",
    " * The summit was held at the residence of the French head of government in Paris \n",
    "* We can imagine scenarios where the sentences above can be used for any of the country's capitals.\n",
    "![](https://www.dropbox.com/s/mwdh6z9qc0pflyy/capitals_example.png?dl=1)"
   ]
  },
  {
   "cell_type": "markdown",
   "id": "0d4503c3",
   "metadata": {},
   "source": [
    "See demo at: https://projector.tensorflow.org/\n"
   ]
  },
  {
   "cell_type": "markdown",
   "id": "0e4bb6f6",
   "metadata": {},
   "source": [
    "### From Linear Regression to Neural Networks\n",
    "\n",
    "\n",
    "![](https://www.dropbox.com/s/1irycgrzu6rtk8c/simple_network.png?dl=1)\n",
    "\n",
    "From [https://www.freecodecamp.org](https://www.freecodecamp.org/news/deep-learning-neural-networks-explained-in-plain-english/)"
   ]
  },
  {
   "cell_type": "markdown",
   "id": "5d0b2f52",
   "metadata": {},
   "source": [
    "### Non-Linear Regression\n",
    "\n",
    "![](https://www.dropbox.com/s/afjm2oqqa4nh7k8/non_linear.png?dl=1)\n",
    "\n",
    "Neurons in the hidden contain non-linear transformations(activation function) that allow the model to mimim a non-lienar function\n",
    "\n",
    "From [https://www.freecodecamp.org](https://www.freecodecamp.org/news/deep-learning-neural-networks-explained-in-plain-english/)\n",
    "\n"
   ]
  },
  {
   "cell_type": "markdown",
   "id": "5c22efd8",
   "metadata": {},
   "source": [
    "### Neural Networks For classification\n",
    "\n",
    "![](https://www.dropbox.com/s/zv6vp6u6gghyw2h/network_classification.png?dl=1)\n",
    "from[https://towardsdatascience.com/coding-up-a-neural-network-classifier-from-scratch-977d235d8a24](https://towardsdatascience.com/coding-up-a-neural-network-classifier-from-scratch-977d235d8a24)"
   ]
  },
  {
   "cell_type": "markdown",
   "id": "1519fd73",
   "metadata": {},
   "source": [
    "### Skipgram Algorithms\n",
    "\n",
    "![](https://www.dropbox.com/s/ykyjsroxu1utwd0/skipgram.png?dl=1)"
   ]
  },
  {
   "cell_type": "markdown",
   "id": "3d0957f5",
   "metadata": {},
   "source": [
    "### The CBOW Algorithm\n",
    "![](https://www.dropbox.com/s/sae7f1sp84xuwwy/cbow.png?dl=1)"
   ]
  },
  {
   "cell_type": "markdown",
   "id": "c87f8055",
   "metadata": {},
   "source": [
    "### Word2Vec Versus More Modern Representations\n",
    "\n",
    "* Word2Vec are Static Embedding\n",
    "\n",
    "\n",
    "* There is a unique embedding for each word\n",
    "  * As opposed to recent methods that are context specific\n",
    "  * Typically based on complex Deep Learning methods\n",
    "  \n",
    "\n",
    "* Fast and easy to compute \n",
    "  * no need to use labelled text. We use runnig text as examples\n"
   ]
  },
  {
   "cell_type": "code",
   "execution_count": null,
   "id": "46f9b999",
   "metadata": {},
   "outputs": [],
   "source": []
  }
 ],
 "metadata": {
  "kernelspec": {
   "display_name": "Python 3 (ipykernel)",
   "language": "python",
   "name": "python3"
  },
  "language_info": {
   "codemirror_mode": {
    "name": "ipython",
    "version": 3
   },
   "file_extension": ".py",
   "mimetype": "text/x-python",
   "name": "python",
   "nbconvert_exporter": "python",
   "pygments_lexer": "ipython3",
   "version": "3.8.3"
  }
 },
 "nbformat": 4,
 "nbformat_minor": 5
}
