{
 "cells": [
  {
   "cell_type": "markdown",
   "id": "3dcfaed9",
   "metadata": {},
   "source": [
    "### Sampling Strategies\n",
    "\n",
    "* There are instances where using the entire dataset is unfeasable or unpractical or costly\n",
    "* It's often possible to explore or work on a subset of the data and run only once, if needed, on the complete dataset.\n",
    "\n",
    "* We need to select a subsample of the entire dataset.\n",
    "\n",
    "* Various ideas can be used for samples. \n",
    "  * Ex. discard half of the data by selecting the first half of the data\n",
    "  * clearly not a good idea, particularly if the data organized according to some feature\n",
    "    * ex. target in the image dataset\n",
    "  * How about setting aside every even instance in input dataframe\n",
    "    * perhaps good but may fall into similar issues as above\n",
    "\n",
    "* This is often referred to as downsampling or subsampling."
   ]
  },
  {
   "cell_type": "markdown",
   "id": "d8b10dfd",
   "metadata": {},
   "source": [
    "### Random Subsample\n",
    "\n",
    "* Takes in a list/collection and returns random sub-samples\n",
    "* each item has equal probability of being picked\n",
    "* Idea when data is:\n",
    "  * Balanced: relatively equal category proportions\n",
    "  * We don't care about missing edge cases"
   ]
  },
  {
   "cell_type": "markdown",
   "id": "fc29e568",
   "metadata": {},
   "source": [
    "### Subsampling \n",
    "\n",
    "* Ideally, we want to retain the structure of the dataset\n",
    "\n",
    "![](https://www.dropbox.com/s/0z7m0mscgyd1hj2/distribution.png?dl=1)"
   ]
  },
  {
   "cell_type": "markdown",
   "id": "3ff80728",
   "metadata": {},
   "source": [
    "### Subsampling - Cont'd\n",
    "\n",
    "* Ideally, we want to retain the structure of the dataset\n",
    "\n",
    "* Example, the objective is to carry out some analysis on a certain number of cities\n",
    "\n",
    "* Bin by city and downsample so that the resulting subsample contains the same proportion of data randomly\n"
   ]
  },
  {
   "cell_type": "markdown",
   "id": "f90a2aa5",
   "metadata": {},
   "source": [
    "### Subsampling - Cont'd\n",
    "\n",
    "* Histograms of distribution are easy to build for lower dimensional data. How about data with higher-dimensional space? \n",
    "    * Not interested in analytics by group (ex. cities)\n",
    "  * Project the data into lower dimensions (enough to retain variability)\n",
    "* In high dimension space, you can think of, for instance, grid the data and randomly selecting samples\n",
    "\n",
    "\n",
    "![](https://www.dropbox.com/s/nijshpr93rth8fn/grid.png?dl=1)\n",
    "\n",
    "* Not ideal for clustering since subsampling can degrade structure\n"
   ]
  },
  {
   "cell_type": "markdown",
   "id": "9f32206c",
   "metadata": {},
   "source": [
    "### Downsampling Using neighborhood density \n",
    "\n",
    "* Select with probility ininversely proportional to avg. distance to k-nearest neighbors.\n",
    "  * Recall that this does not work very well in very high disensional space\n",
    "\n",
    "![](https://www.dropbox.com/s/2nw04s4qkepakfq/distance_to_prob.png?dl=1)\n"
   ]
  },
  {
   "cell_type": "markdown",
   "id": "82d557db",
   "metadata": {},
   "source": [
    "### Subsampling Data by Cluster\n",
    "\n",
    "* Essentially: clustering the data into k-cluster\n",
    "  * Find by maximizing the silhouette index\n",
    "  \n",
    "* Using a stratefied approach or a density apprach\n",
    "\n",
    "* Sample using proportion of every sample\n"
   ]
  },
  {
   "cell_type": "markdown",
   "id": "ff3cb29a",
   "metadata": {},
   "source": [
    "### Sampling from TimeSeries\n",
    "\n",
    "* Random: select every x (random) time point\n",
    "* Subsample ever k records\n",
    "* Splits time series data into sections or \"buckets\", then takes equal samples from each bucket.\n",
    "  * bucket is hourly or daily, for example\n",
    "* Use a sliding windown\n",
    "  * points have probability of getting selected\n",
    "  * Select point randomly using distance from the mean in the window"
   ]
  },
  {
   "cell_type": "markdown",
   "id": "945b2139",
   "metadata": {},
   "source": [
    "### Project ThinSage \n",
    "\n",
    "* Developed by a Student in ICS 438 as part of a directed project ICS499\n",
    "* Implement most of the idea discussed above (except gridding)\n",
    "* Very useful for some of you who will be use very large datasets\n"
   ]
  },
  {
   "cell_type": "code",
   "execution_count": null,
   "id": "d040820c",
   "metadata": {},
   "outputs": [],
   "source": []
  }
 ],
 "metadata": {
  "kernelspec": {
   "display_name": "Python 3 (ipykernel)",
   "language": "python",
   "name": "python3"
  },
  "language_info": {
   "codemirror_mode": {
    "name": "ipython",
    "version": 3
   },
   "file_extension": ".py",
   "mimetype": "text/x-python",
   "name": "python",
   "nbconvert_exporter": "python",
   "pygments_lexer": "ipython3",
   "version": "3.8.3"
  }
 },
 "nbformat": 4,
 "nbformat_minor": 5
}
