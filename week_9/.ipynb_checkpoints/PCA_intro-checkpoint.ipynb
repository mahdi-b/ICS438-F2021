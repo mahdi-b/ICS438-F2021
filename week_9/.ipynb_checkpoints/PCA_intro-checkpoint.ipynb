{
 "cells": [
  {
   "cell_type": "code",
   "execution_count": 29,
   "metadata": {
    "slideshow": {
     "slide_type": "skip"
    }
   },
   "outputs": [],
   "source": [
    "from IPython.display import Image\n",
    "import random \n",
    "import numpy as np\n",
    "import matplotlib.pyplot as pyplot \n",
    "import seaborn as sns\n",
    "import matplotlib.pyplot as plt\n",
    "\n",
    "import pandas as pd\n",
    "\n",
    "# we will be using preprocessing to normalize the data\n",
    "from sklearn.preprocessing import StandardScaler\n",
    "\n",
    "# we will be using LA to find eigenvectors\n",
    "from numpy import linalg as LA\n",
    "\n",
    "\n",
    "from sklearn.decomposition import PCA\n",
    "\n",
    "%matplotlib inline"
   ]
  },
  {
   "cell_type": "markdown",
   "metadata": {
    "slideshow": {
     "slide_type": "slide"
    }
   },
   "source": [
    "### Principal Components Analysis (PCA)\n",
    "\n",
    "* A popular dimensionality reduction algorithm\n",
    "\n",
    "* Attemptes to the find the principal axis that reprent the data  to reducing the dimensionality a dataset\n",
    "  *  A the same time we want to minimizing information loss\n",
    "\n",
    "* The objective of PCA is to increase interpretability and mitigate the curse of dimensionality\n"
   ]
  },
  {
   "cell_type": "markdown",
   "metadata": {
    "slideshow": {
     "slide_type": "slide"
    }
   },
   "source": [
    "#### Contextualizing PCA projecting on an existing dimension\n",
    "\n",
    "* Why not just drop one of the dimensions?\n",
    "\n",
    "![](https://www.dropbox.com/s/9qz14uo03cn2vsh/projecting_on_x.png?dl=1)\n"
   ]
  },
  {
   "cell_type": "markdown",
   "metadata": {
    "slideshow": {
     "slide_type": "slide"
    }
   },
   "source": [
    "#### Contextualizing PCA projecting on an existing dimension\n",
    "\n",
    "* Or perhaps drop `Y`? \n",
    "   * This projection makes the data look \"better\"\n",
    "\n",
    "![](https://www.dropbox.com/s/udzu87138zcovn9/projecting_on_y.png?dl=1)\n",
    "\n"
   ]
  },
  {
   "cell_type": "markdown",
   "metadata": {
    "slideshow": {
     "slide_type": "slide"
    }
   },
   "source": [
    "#### Contextualizing PCA projecting on an existing dimension\n",
    "\n",
    "* Or project on any axis we desire to project on\n",
    "\n",
    "![](https://www.dropbox.com/s/tcqkgrydas82jes/projecting_on_z.png?dl=1)\n"
   ]
  },
  {
   "cell_type": "markdown",
   "metadata": {},
   "source": [
    "#### Selecting the new dimensions\n",
    "\n",
    "* How do we select the projection axis (or axes) in the data?\n",
    "  * Given a dataset with dimension $D$, we need to find a new set of dimensions ($d$) such that $d<<D$\n",
    "* Some new projections are better than other\n",
    "\n",
    "<img src=\"https://www.dropbox.com/s/g8ls7jhzy3kl7jx/bad_better_projection.png?dl=1\" alt=\"drawing\" style=\"width:900px;\"/>\n"
   ]
  },
  {
   "cell_type": "markdown",
   "metadata": {
    "slideshow": {
     "slide_type": "skip"
    }
   },
   "source": [
    "#### Contextualizing PCA\n",
    "\n",
    "* We prefer to project on the axis that maximizes the variance in the data. \n",
    "\n",
    "* It's helpful to think of the variance as the information that is contained in the data. \n",
    "\n",
    "* We want the axis that maximize the information contained in the data.\n",
    "\n",
    "* This axis, does not have to be one of the axes of the coordinate system.\n",
    "\n",
    "\n",
    "* If we rotate the data points from the previous example by 45°, then the $x-$axis is no longer the axis that maximizes the variance.\n",
    "\n"
   ]
  },
  {
   "cell_type": "markdown",
   "metadata": {
    "slideshow": {
     "slide_type": "slide"
    }
   },
   "source": [
    "# The Axis Minimizing the Variance\n",
    "\n",
    "* Now, the line that maximizes the variance is the one that forms 45° angle with the $x-$axis \n",
    "\n",
    "![](https://www.dropbox.com/s/otgm3whs20bie81/data_projection_4.png?dl=1)\n"
   ]
  },
  {
   "cell_type": "code",
   "execution_count": 5,
   "metadata": {
    "slideshow": {
     "slide_type": "skip"
    }
   },
   "outputs": [
    {
     "name": "stderr",
     "output_type": "stream",
     "text": [
      "/opt/anaconda3/lib/python3.8/site-packages/seaborn/_decorators.py:36: FutureWarning: Pass the following variables as keyword args: x, y. From version 0.12, the only valid positional argument will be `data`, and passing other arguments without an explicit keyword will result in an error or misinterpretation.\n",
      "  warnings.warn(\n"
     ]
    },
    {
     "data": {
      "text/plain": [
       "Text(-4, 2.2, 'proj_line_3')"
      ]
     },
     "execution_count": 5,
     "metadata": {},
     "output_type": "execute_result"
    },
    {
     "data": {
      "image/png": "[encoded data removed]",
      "text/plain": [
       "<Figure size 864x720 with 1 Axes>"
      ]
     },
     "metadata": {
      "needs_background": "light"
     },
     "output_type": "display_data"
    }
   ],
   "source": [
    "\n",
    "random.seed(246)\n",
    "x_axis = np.random.normal(0, 2, 30)\n",
    "x_axis.sort()\n",
    "noise = np.random.normal(0, 0.5, 30)\n",
    "y_axis = x_axis * 1.2 + noise\n",
    "\n",
    "randomData = pd.DataFrame({'x': x_axis, 'y': y_axis})\n",
    "\n",
    "pyplot.figure(figsize=(12,10))\n",
    "_ = pyplot.ylim(-6, 6)\n",
    "_ = pyplot.xlim(-6, 6)\n",
    "\n",
    "sns.regplot(x_axis, y_axis, ci=False, )\n",
    "\n",
    "# alternative projection line 1\n",
    "pyplot.plot(np.arange(-6, 6, 0.06), [0 for _ in np.arange(-6, 6, 0.06)], 'k--', lw=2)\n",
    "pyplot.text(-4, 0.2, 'proj_line_2')\n",
    "\n",
    "# alternative projection line 1\n",
    "pyplot.plot(np.arange(-6, 6, 0.06), [-x/2. for x in np.arange(-6, 6, 0.06)], '-', lw=2)\n",
    "pyplot.text(-4, 2.2, 'proj_line_3')\n",
    "\n",
    "\n"
   ]
  },
  {
   "cell_type": "markdown",
   "metadata": {
    "slideshow": {
     "slide_type": "slide"
    }
   },
   "source": [
    "<img src=\"https://www.dropbox.com/s/earjhzutb1yx48x/axes.png?dl=1\" alt=\"drawing\" style=\"width:500px;\"/>"
   ]
  },
  {
   "cell_type": "markdown",
   "metadata": {
    "slideshow": {
     "slide_type": "slide"
    }
   },
   "source": [
    "<img src=\"https://www.dropbox.com/s/cupxib5e7k13qcc/projection_vectors_.png?dl=1\" alt=\"drawing\" style=\"width:500px;\"/>\n"
   ]
  },
  {
   "cell_type": "code",
   "execution_count": 7,
   "metadata": {},
   "outputs": [
    {
     "data": {
      "text/html": [
       "<div>\n",
       "<style scoped>\n",
       "    .dataframe tbody tr th:only-of-type {\n",
       "        vertical-align: middle;\n",
       "    }\n",
       "\n",
       "    .dataframe tbody tr th {\n",
       "        vertical-align: top;\n",
       "    }\n",
       "\n",
       "    .dataframe thead th {\n",
       "        text-align: right;\n",
       "    }\n",
       "</style>\n",
       "<table border=\"1\" class=\"dataframe\">\n",
       "  <thead>\n",
       "    <tr style=\"text-align: right;\">\n",
       "      <th></th>\n",
       "      <th>x</th>\n",
       "      <th>y</th>\n",
       "    </tr>\n",
       "  </thead>\n",
       "  <tbody>\n",
       "    <tr>\n",
       "      <th>0</th>\n",
       "      <td>-4.299217</td>\n",
       "      <td>-4.712702</td>\n",
       "    </tr>\n",
       "    <tr>\n",
       "      <th>1</th>\n",
       "      <td>-3.061067</td>\n",
       "      <td>-3.435449</td>\n",
       "    </tr>\n",
       "    <tr>\n",
       "      <th>2</th>\n",
       "      <td>-2.546786</td>\n",
       "      <td>-3.141448</td>\n",
       "    </tr>\n",
       "    <tr>\n",
       "      <th>3</th>\n",
       "      <td>-2.536073</td>\n",
       "      <td>-2.847362</td>\n",
       "    </tr>\n",
       "    <tr>\n",
       "      <th>4</th>\n",
       "      <td>-1.755987</td>\n",
       "      <td>-2.755027</td>\n",
       "    </tr>\n",
       "    <tr>\n",
       "      <th>5</th>\n",
       "      <td>-1.492776</td>\n",
       "      <td>-2.164141</td>\n",
       "    </tr>\n",
       "    <tr>\n",
       "      <th>6</th>\n",
       "      <td>-1.447118</td>\n",
       "      <td>-1.298538</td>\n",
       "    </tr>\n",
       "    <tr>\n",
       "      <th>7</th>\n",
       "      <td>-1.432522</td>\n",
       "      <td>-2.639039</td>\n",
       "    </tr>\n",
       "    <tr>\n",
       "      <th>8</th>\n",
       "      <td>-0.792143</td>\n",
       "      <td>-0.781138</td>\n",
       "    </tr>\n",
       "    <tr>\n",
       "      <th>9</th>\n",
       "      <td>-0.635168</td>\n",
       "      <td>-1.141733</td>\n",
       "    </tr>\n",
       "    <tr>\n",
       "      <th>10</th>\n",
       "      <td>0.121179</td>\n",
       "      <td>0.732470</td>\n",
       "    </tr>\n",
       "    <tr>\n",
       "      <th>11</th>\n",
       "      <td>0.133720</td>\n",
       "      <td>0.279801</td>\n",
       "    </tr>\n",
       "    <tr>\n",
       "      <th>12</th>\n",
       "      <td>0.269379</td>\n",
       "      <td>0.933075</td>\n",
       "    </tr>\n",
       "    <tr>\n",
       "      <th>13</th>\n",
       "      <td>0.367183</td>\n",
       "      <td>0.343762</td>\n",
       "    </tr>\n",
       "    <tr>\n",
       "      <th>14</th>\n",
       "      <td>0.603147</td>\n",
       "      <td>1.168370</td>\n",
       "    </tr>\n",
       "    <tr>\n",
       "      <th>15</th>\n",
       "      <td>0.781378</td>\n",
       "      <td>0.503153</td>\n",
       "    </tr>\n",
       "    <tr>\n",
       "      <th>16</th>\n",
       "      <td>1.132037</td>\n",
       "      <td>1.127290</td>\n",
       "    </tr>\n",
       "    <tr>\n",
       "      <th>17</th>\n",
       "      <td>1.215420</td>\n",
       "      <td>1.874383</td>\n",
       "    </tr>\n",
       "    <tr>\n",
       "      <th>18</th>\n",
       "      <td>1.218114</td>\n",
       "      <td>0.899868</td>\n",
       "    </tr>\n",
       "    <tr>\n",
       "      <th>19</th>\n",
       "      <td>1.488608</td>\n",
       "      <td>1.540136</td>\n",
       "    </tr>\n",
       "    <tr>\n",
       "      <th>20</th>\n",
       "      <td>1.716896</td>\n",
       "      <td>2.111268</td>\n",
       "    </tr>\n",
       "    <tr>\n",
       "      <th>21</th>\n",
       "      <td>1.887282</td>\n",
       "      <td>2.136006</td>\n",
       "    </tr>\n",
       "    <tr>\n",
       "      <th>22</th>\n",
       "      <td>1.982799</td>\n",
       "      <td>1.925257</td>\n",
       "    </tr>\n",
       "    <tr>\n",
       "      <th>23</th>\n",
       "      <td>2.180550</td>\n",
       "      <td>2.175854</td>\n",
       "    </tr>\n",
       "    <tr>\n",
       "      <th>24</th>\n",
       "      <td>2.196904</td>\n",
       "      <td>3.027452</td>\n",
       "    </tr>\n",
       "    <tr>\n",
       "      <th>25</th>\n",
       "      <td>2.249448</td>\n",
       "      <td>2.371492</td>\n",
       "    </tr>\n",
       "    <tr>\n",
       "      <th>26</th>\n",
       "      <td>2.576567</td>\n",
       "      <td>3.653288</td>\n",
       "    </tr>\n",
       "    <tr>\n",
       "      <th>27</th>\n",
       "      <td>3.008617</td>\n",
       "      <td>4.092567</td>\n",
       "    </tr>\n",
       "    <tr>\n",
       "      <th>28</th>\n",
       "      <td>4.261235</td>\n",
       "      <td>5.435989</td>\n",
       "    </tr>\n",
       "    <tr>\n",
       "      <th>29</th>\n",
       "      <td>5.617157</td>\n",
       "      <td>7.339377</td>\n",
       "    </tr>\n",
       "  </tbody>\n",
       "</table>\n",
       "</div>"
      ],
      "text/plain": [
       "           x         y\n",
       "0  -4.299217 -4.712702\n",
       "1  -3.061067 -3.435449\n",
       "2  -2.546786 -3.141448\n",
       "3  -2.536073 -2.847362\n",
       "4  -1.755987 -2.755027\n",
       "5  -1.492776 -2.164141\n",
       "6  -1.447118 -1.298538\n",
       "7  -1.432522 -2.639039\n",
       "8  -0.792143 -0.781138\n",
       "9  -0.635168 -1.141733\n",
       "10  0.121179  0.732470\n",
       "11  0.133720  0.279801\n",
       "12  0.269379  0.933075\n",
       "13  0.367183  0.343762\n",
       "14  0.603147  1.168370\n",
       "15  0.781378  0.503153\n",
       "16  1.132037  1.127290\n",
       "17  1.215420  1.874383\n",
       "18  1.218114  0.899868\n",
       "19  1.488608  1.540136\n",
       "20  1.716896  2.111268\n",
       "21  1.887282  2.136006\n",
       "22  1.982799  1.925257\n",
       "23  2.180550  2.175854\n",
       "24  2.196904  3.027452\n",
       "25  2.249448  2.371492\n",
       "26  2.576567  3.653288\n",
       "27  3.008617  4.092567\n",
       "28  4.261235  5.435989\n",
       "29  5.617157  7.339377"
      ]
     },
     "execution_count": 7,
     "metadata": {},
     "output_type": "execute_result"
    }
   ],
   "source": [
    "randomData"
   ]
  },
  {
   "cell_type": "code",
   "execution_count": 15,
   "metadata": {
    "slideshow": {
     "slide_type": "slide"
    }
   },
   "outputs": [
    {
     "data": {
      "text/html": [
       "<div>\n",
       "<style scoped>\n",
       "    .dataframe tbody tr th:only-of-type {\n",
       "        vertical-align: middle;\n",
       "    }\n",
       "\n",
       "    .dataframe tbody tr th {\n",
       "        vertical-align: top;\n",
       "    }\n",
       "\n",
       "    .dataframe thead th {\n",
       "        text-align: right;\n",
       "    }\n",
       "</style>\n",
       "<table border=\"1\" class=\"dataframe\">\n",
       "  <thead>\n",
       "    <tr style=\"text-align: right;\">\n",
       "      <th></th>\n",
       "      <th>0</th>\n",
       "    </tr>\n",
       "  </thead>\n",
       "  <tbody>\n",
       "    <tr>\n",
       "      <th>0</th>\n",
       "      <td>-9.011919</td>\n",
       "    </tr>\n",
       "    <tr>\n",
       "      <th>1</th>\n",
       "      <td>-6.496516</td>\n",
       "    </tr>\n",
       "    <tr>\n",
       "      <th>2</th>\n",
       "      <td>-5.688234</td>\n",
       "    </tr>\n",
       "    <tr>\n",
       "      <th>3</th>\n",
       "      <td>-5.383435</td>\n",
       "    </tr>\n",
       "    <tr>\n",
       "      <th>4</th>\n",
       "      <td>-4.511014</td>\n",
       "    </tr>\n",
       "  </tbody>\n",
       "</table>\n",
       "</div>"
      ],
      "text/plain": [
       "          0\n",
       "0 -9.011919\n",
       "1 -6.496516\n",
       "2 -5.688234\n",
       "3 -5.383435\n",
       "4 -4.511014"
      ]
     },
     "execution_count": 15,
     "metadata": {},
     "output_type": "execute_result"
    }
   ],
   "source": [
    "randomData.dot(np.array([[1],[1]])).head()"
   ]
  },
  {
   "cell_type": "code",
   "execution_count": 11,
   "metadata": {
    "slideshow": {
     "slide_type": "slide"
    }
   },
   "outputs": [
    {
     "data": {
      "text/plain": [
       "23.70217966911345"
      ]
     },
     "execution_count": 11,
     "metadata": {},
     "output_type": "execute_result"
    }
   ],
   "source": [
    "# Best looking projection line\n",
    "np.var(randomData.dot(np.array([[1],[1]])))[0]"
   ]
  },
  {
   "cell_type": "code",
   "execution_count": 16,
   "metadata": {
    "slideshow": {
     "slide_type": "slide"
    }
   },
   "outputs": [
    {
     "data": {
      "image/png": "[encoded data removed]",
      "text/plain": [
       "<Figure size 432x288 with 1 Axes>"
      ]
     },
     "metadata": {
      "needs_background": "light"
     },
     "output_type": "display_data"
    }
   ],
   "source": [
    "pyplot.xlabel('best fit line')\n",
    "\n",
    "pyplot.title('Projecting on the best fit line')\n",
    "\n",
    "pyplot.plot(np.arange(-12,12, 0.1), [0 for _ in np.arange(-12,12, 0.1)], 'b')\n",
    "pyplot.scatter(randomData.dot(np.array([1,1])), [0 for _ in range(len(randomData))])\n",
    "\n",
    "pyplot.xlim(-10, 10)\n",
    "\n",
    "ax = pyplot.gca()\n",
    "\n",
    "ax.yaxis.set_visible(False)"
   ]
  },
  {
   "cell_type": "code",
   "execution_count": 17,
   "metadata": {
    "slideshow": {
     "slide_type": "slide"
    }
   },
   "outputs": [
    {
     "data": {
      "text/plain": [
       "4.730253351837872"
      ]
     },
     "execution_count": 17,
     "metadata": {},
     "output_type": "execute_result"
    }
   ],
   "source": [
    "# Second best looking projection line\n",
    "\n",
    "np.var(randomData.dot(np.array([[1], [0]])))[0]"
   ]
  },
  {
   "cell_type": "code",
   "execution_count": 18,
   "metadata": {
    "slideshow": {
     "slide_type": "slide"
    }
   },
   "outputs": [
    {
     "data": {
      "image/png": "[encoded data removed]",
      "text/plain": [
       "<Figure size 432x288 with 1 Axes>"
      ]
     },
     "metadata": {
      "needs_background": "light"
     },
     "output_type": "display_data"
    }
   ],
   "source": [
    "pyplot.xlabel('proj_line_1')\n",
    "pyplot.title('Projecting on proj_line_1')\n",
    "\n",
    "pyplot.plot(np.arange(-12,12, 0.1), [0 for _ in np.arange(-12,12, 0.1)], 'k--')\n",
    "pyplot.scatter(randomData.dot(np.array([[1],[0]])), [0 for _ in range(len(randomData))])\n",
    "\n",
    "pyplot.xlim(-10, 10)\n",
    "\n",
    "ax = pyplot.gca()\n",
    "\n",
    "ax.yaxis.set_visible(False)"
   ]
  },
  {
   "cell_type": "code",
   "execution_count": 20,
   "metadata": {
    "slideshow": {
     "slide_type": "slide"
    }
   },
   "outputs": [
    {
     "data": {
      "text/plain": [
       "0.7455957110359268"
      ]
     },
     "execution_count": 20,
     "metadata": {},
     "output_type": "execute_result"
    }
   ],
   "source": [
    "# Third best looking projection line\n",
    "\n",
    "np.var(randomData.dot(np.array([[1], [-0.5]])))[0]"
   ]
  },
  {
   "cell_type": "code",
   "execution_count": 21,
   "metadata": {
    "slideshow": {
     "slide_type": "slide"
    }
   },
   "outputs": [
    {
     "data": {
      "image/png": "[encoded data removed]",
      "text/plain": [
       "<Figure size 432x288 with 1 Axes>"
      ]
     },
     "metadata": {
      "needs_background": "light"
     },
     "output_type": "display_data"
    }
   ],
   "source": [
    "pyplot.xlabel('proj_line_3')\n",
    "pyplot.title('Projecting on proj_line_3')\n",
    "\n",
    "pyplot.plot(np.arange(-10,10, 0.1), [0 for _ in np.arange(-10,10, 0.1)], 'k--')\n",
    "pyplot.scatter(randomData.dot(np.array([[1],[-0.5]])), [0 for _ in range(len(randomData))])\n",
    "\n",
    "pyplot.xlim(-10, 10)\n",
    "\n",
    "ax = pyplot.gca()\n",
    "\n",
    "ax.yaxis.set_visible(False)"
   ]
  },
  {
   "cell_type": "markdown",
   "metadata": {
    "collapsed": true,
    "slideshow": {
     "slide_type": "slide"
    }
   },
   "source": [
    "### What is PCA?\n",
    "\n",
    "The objective of PCA is to find the set of axes -- we call them components -- on which we project the data while maintaining as much of the information as possible. \n",
    "\n",
    "* PCA finds $D$ set of axes that contain all the information in the data.\n",
    "\n",
    "\n",
    "* We typically only use two or three if we need to visualize the data\n",
    "* We pick as many components as needed to capture as much variability in the data as we desire\n",
    "  * Be able abo to reproduce the original data\n"
   ]
  },
  {
   "cell_type": "markdown",
   "metadata": {
    "slideshow": {
     "slide_type": "slide"
    }
   },
   "source": [
    "### Requirement of the PCA?\n",
    "\n",
    "* The two important requirements are that:\n",
    "  * The new components are ranked by how much variability in the data they capture. For instance, the first component captures more variability than the second component, the second more than the third and so on.\n",
    "  * The components are not correlated -- they are orthogonal.\n",
    "    * why are orthogonal components not-correlated? \n",
    "    * We need this as a constraint to force components to be different, i.e., we need to components to tell us different things about the data"
   ]
  },
  {
   "cell_type": "markdown",
   "metadata": {
    "slideshow": {
     "slide_type": "slide"
    }
   },
   "source": [
    "### Eigenvalues and Eigenvectors\n",
    "\n",
    "* Eigenvalues and eigenvectors are concept of linear algebra.\n",
    "\n",
    "- An __eigenvector__ is a non-zero vector that only changes by an overall scale when a linear transformation is applied to it, i.e., when a matrix is multiplied by it\n",
    "\n",
    "  * In other words, multiplying a matrix by that vector produces a vector that is only stretched or shrunk and not rotated.\n",
    "  \n",
    "- An __eigenvalue__ is simply the scalar value $\\lambda$ by which the vector was stretched during the linear transformation.\n",
    "\n",
    "In other words:\n",
    "\n",
    "$$\n",
    "\\mathbf{A} \\mathbf{u} = \\lambda\\mathbf{u}\n",
    "$$\n"
   ]
  },
  {
   "cell_type": "markdown",
   "metadata": {
    "slideshow": {
     "slide_type": "slide"
    }
   },
   "source": [
    "Example. Given: \n",
    "    \n",
    "$$\n",
    "A =\n",
    "\\left( \\begin{array}{cc}\n",
    "3 & -5 \\\\\n",
    "1 & 2 \\\\\n",
    "\\end{array} \\right)\n",
    "$$ is $\\mathbf{u}$, where \n",
    "$$\n",
    "\\mathbf{u}= \\left( \\begin{array}{c}\n",
    "1\\\\\n",
    "4\\\\\n",
    "\\end{array} \\right)\n",
    "$$\n",
    "an eigenvector for A?\n"
   ]
  },
  {
   "cell_type": "markdown",
   "metadata": {
    "slideshow": {
     "slide_type": "slide"
    }
   },
   "source": [
    "### Linear Transformation\n",
    "\n",
    "<img src=\"https://www.dropbox.com/s/06w956xkjp2x9wp/multiplication_1.png?dl=1\" alt=\"drawing\" style=\"width:500px;\"/>\n",
    "\n",
    "\n",
    "*$\\mathbf{u}$ is not the linear transformation of $\\mathbf{A}$."
   ]
  },
  {
   "cell_type": "markdown",
   "metadata": {
    "slideshow": {
     "slide_type": "slide"
    }
   },
   "source": [
    "### Finding Eigenvector\n",
    "\n",
    "* We find a eigenvector for A using the `linalg` module in `numpy`\n",
    "\n",
    "$$\n",
    "A =\n",
    "\\left( \\begin{array}{cc}\n",
    "3 & 0 \\\\\n",
    "1 & 6 \\\\\n",
    "\\end{array} \\right)\n",
    "$$"
   ]
  },
  {
   "cell_type": "code",
   "execution_count": 22,
   "metadata": {
    "slideshow": {
     "slide_type": "slide"
    }
   },
   "outputs": [],
   "source": [
    "A = np.array([[3,0], [1,6]])\n",
    "\n",
    "w, v = LA.eig(A)\n"
   ]
  },
  {
   "cell_type": "code",
   "execution_count": 25,
   "metadata": {
    "slideshow": {
     "slide_type": "slide"
    }
   },
   "outputs": [
    {
     "name": "stdout",
     "output_type": "stream",
     "text": [
      "[[ 0.          0.9486833 ]\n",
      " [ 1.         -0.31622777]]\n"
     ]
    }
   ],
   "source": [
    "print(v)"
   ]
  },
  {
   "cell_type": "markdown",
   "metadata": {
    "slideshow": {
     "slide_type": "slide"
    }
   },
   "source": [
    "This means that \n",
    "$$\n",
    "\\mathbf{u_1}= \\left( \\begin{array}{c}\n",
    "0\\\\\n",
    "1\\\\\n",
    "\\end{array} \\right)\n",
    "$$ is a first eigenvector and \n",
    "\n",
    "$$\n",
    "\\mathbf{u_2}= \\left( \\begin{array}{c}\n",
    "0.9486833 \\\\\n",
    "-0.31622777\\\\\n",
    "\\end{array} \\right)\n",
    "$$ is a second eigenvector"
   ]
  },
  {
   "cell_type": "code",
   "execution_count": 23,
   "metadata": {
    "slideshow": {
     "slide_type": "slide"
    }
   },
   "outputs": [
    {
     "data": {
      "text/html": [
       "<img src=\"https://www.dropbox.com/s/ta8gbws0bdtkma7/multiplication_2.png?dl=1\" width=\"600\"/>"
      ],
      "text/plain": [
       "<IPython.core.display.Image object>"
      ]
     },
     "execution_count": 23,
     "metadata": {},
     "output_type": "execute_result"
    }
   ],
   "source": [
    "Image(url=\"https://www.dropbox.com/s/ta8gbws0bdtkma7/multiplication_2.png?dl=1\", width=600)\n"
   ]
  },
  {
   "cell_type": "markdown",
   "metadata": {
    "slideshow": {
     "slide_type": "slide"
    }
   },
   "source": [
    "### Finding Eigenvalues and Eigenvectors\n",
    "\n",
    "* Mutiplying the martix by the $\\mathbf{u_1}$ scales the vector by 6, \n",
    "\n",
    "* Multiplying by $\\mathbf{u_2}$ scales the vector by 3. \n",
    "\n",
    "* The values 6 and 3 the weights, or eigenvalues, of $u_1$ and $u_2$ respectively."
   ]
  },
  {
   "cell_type": "code",
   "execution_count": 28,
   "metadata": {
    "slideshow": {
     "slide_type": "slide"
    }
   },
   "outputs": [
    {
     "name": "stdout",
     "output_type": "stream",
     "text": [
      "[6. 3.]\n"
     ]
    }
   ],
   "source": [
    "print(w)"
   ]
  },
  {
   "cell_type": "markdown",
   "metadata": {
    "slideshow": {
     "slide_type": "slide"
    }
   },
   "source": [
    "### Scaling the data\n",
    "\n",
    "\n",
    "* This is a  critical point that we need to consider before carrying out the PCA. \n",
    "\n",
    "  * We don't want the variance over one axis to bias the data simply because the scale is different. \n",
    "\n",
    "* Ex. consider $x_1$ measures weights in grams for mammalian animal species and $x_2$ measures progeny size. \n",
    "  * Here, $x_1$ can be orders of magnitude larger than the $x_2$ progeny size, \n",
    "    * This can substantially bias the results\n",
    "\n"
   ]
  },
  {
   "cell_type": "markdown",
   "metadata": {
    "slideshow": {
     "slide_type": "slide"
    }
   },
   "source": [
    "### Scaling the data - Cont'd \n",
    "\n",
    "\n",
    "* The first step that is usually carried out in PCA is normlizaing the data\n",
    "\n",
    "  * Rescaling the data by centering it at 0, and normalizing by the variance\n",
    "\n",
    "* This is can be done for instance using the standard score:\n",
    "\n",
    "$$\n",
    "x_{new}=\\frac{x -\\mu}{\\sigma}\n",
    "$$\n",
    "\n",
    "* Data can be used to fing  the eigenvector with the largest eigenvalue and project on that vector first"
   ]
  },
  {
   "cell_type": "markdown",
   "metadata": {
    "slideshow": {
     "slide_type": "slide"
    }
   },
   "source": [
    "### Constraints on the Data\n",
    "\n",
    "* Given an original dimension $m$\n",
    "\n",
    "* The matrix $\\mathbf{A}_{m\\times n}$ must be square; i.e. $m=n$ \n",
    "  \n",
    "  * If $m\\ne n$, then $\\mathbf{A}_{m \\times n} \\cdot \\mathbf{u}_{n\\times 1}  = \\mathbf{v}_{m \\times 1} \\implies \\mathbf{v} \\ne \\mathbf{u}$\n",
    "  \n",
    "  \n"
   ]
  },
  {
   "cell_type": "markdown",
   "metadata": {
    "slideshow": {
     "slide_type": "slide"
    }
   },
   "source": [
    "### Constraints on the Data - Cont'd\n",
    "\n",
    "\n",
    "* Recall, however, that what we are interested is identifying the axes that maximize the variances. \n",
    "\n",
    "\n",
    "* Therefore, we can use the covariance matrix, $\\Sigma$\n",
    "  * We can identify the eigenvectors of $\\Sigma$ instead\n",
    "\n",
    "\n",
    "\n",
    "* An entry (i,j) in covariance matrix $\\Sigma$  describes the covariance between features(variables) $i$ and $j$. \n",
    "\n",
    "  * For $i=j$, the matrix describes the variance for the variable $i$.\n"
   ]
  },
  {
   "cell_type": "code",
   "execution_count": 24,
   "metadata": {
    "slideshow": {
     "slide_type": "slide"
    }
   },
   "outputs": [
    {
     "data": {
      "text/html": [
       "<div>\n",
       "<style scoped>\n",
       "    .dataframe tbody tr th:only-of-type {\n",
       "        vertical-align: middle;\n",
       "    }\n",
       "\n",
       "    .dataframe tbody tr th {\n",
       "        vertical-align: top;\n",
       "    }\n",
       "\n",
       "    .dataframe thead th {\n",
       "        text-align: right;\n",
       "    }\n",
       "</style>\n",
       "<table border=\"1\" class=\"dataframe\">\n",
       "  <thead>\n",
       "    <tr style=\"text-align: right;\">\n",
       "      <th></th>\n",
       "      <th>x</th>\n",
       "      <th>y</th>\n",
       "    </tr>\n",
       "  </thead>\n",
       "  <tbody>\n",
       "    <tr>\n",
       "      <th>x</th>\n",
       "      <td>4.893366</td>\n",
       "      <td>6.019062</td>\n",
       "    </tr>\n",
       "    <tr>\n",
       "      <th>y</th>\n",
       "      <td>6.019062</td>\n",
       "      <td>7.588008</td>\n",
       "    </tr>\n",
       "  </tbody>\n",
       "</table>\n",
       "</div>"
      ],
      "text/plain": [
       "          x         y\n",
       "x  4.893366  6.019062\n",
       "y  6.019062  7.588008"
      ]
     },
     "execution_count": 24,
     "metadata": {},
     "output_type": "execute_result"
    }
   ],
   "source": [
    "### Rescaling the data \n",
    "\n",
    "\n",
    "normalizedRandomData = pd.DataFrame(StandardScaler().fit_transform(randomData), columns=[\"x1\", \"x2\"])\n",
    "\n",
    "covMatrix = pd.DataFrame.cov(randomData)\n",
    "\n",
    "covMatrix\n"
   ]
  },
  {
   "cell_type": "code",
   "execution_count": 25,
   "metadata": {
    "slideshow": {
     "slide_type": "slide"
    }
   },
   "outputs": [
    {
     "name": "stdout",
     "output_type": "stream",
     "text": [
      "[ 0.07267428 12.40869887]\n",
      "------------------------------\n",
      "[[-0.78052445 -0.62512526]\n",
      " [ 0.62512526 -0.78052445]]\n"
     ]
    }
   ],
   "source": [
    "eigvals, eigvecs = LA.eig(covMatrix)\n",
    "\n",
    "print(eigvals)\n",
    "print(\"-\" * 30)\n",
    "print(eigvecs)"
   ]
  },
  {
   "cell_type": "code",
   "execution_count": null,
   "metadata": {
    "slideshow": {
     "slide_type": "slide"
    }
   },
   "outputs": [],
   "source": [
    "plt.figure(figsize=(12,10))\n",
    "\n",
    "plt.scatter(normalizedRandomData[\"x1\"], normalizedRandomData[\"x2\"])\n"
   ]
  },
  {
   "cell_type": "code",
   "execution_count": 26,
   "metadata": {
    "slideshow": {
     "slide_type": "slide"
    }
   },
   "outputs": [
    {
     "data": {
      "text/plain": [
       "(-0.7805244478423625, 0.6251252565049464)"
      ]
     },
     "execution_count": 26,
     "metadata": {},
     "output_type": "execute_result"
    }
   ],
   "source": [
    "eigvecs[0,0], eigvecs[1,0] "
   ]
  },
  {
   "cell_type": "code",
   "execution_count": 31,
   "metadata": {
    "slideshow": {
     "slide_type": "slide"
    }
   },
   "outputs": [
    {
     "name": "stderr",
     "output_type": "stream",
     "text": [
      "/var/folders/wm/4mf96ttd0md8_3czt6nc1vbc0000gn/T/ipykernel_43821/1946272414.py:4: FutureWarning: `rcond` parameter will change to the default of machine precision times ``max(M, N)`` where M and N are the input matrix dimensions.\n",
      "To use the future default and silence this warning we advise to pass `rcond=None`, to keep using the old, explicitly pass `rcond=-1`.\n",
      "  k, b = np.linalg.lstsq(A, y)[0]\n",
      "/var/folders/wm/4mf96ttd0md8_3czt6nc1vbc0000gn/T/ipykernel_43821/1946272414.py:4: FutureWarning: `rcond` parameter will change to the default of machine precision times ``max(M, N)`` where M and N are the input matrix dimensions.\n",
      "To use the future default and silence this warning we advise to pass `rcond=None`, to keep using the old, explicitly pass `rcond=-1`.\n",
      "  k, b = np.linalg.lstsq(A, y)[0]\n"
     ]
    },
    {
     "data": {
      "image/png": "[encoded data removed]",
      "text/plain": [
       "<Figure size 864x720 with 1 Axes>"
      ]
     },
     "metadata": {
      "needs_background": "light"
     },
     "output_type": "display_data"
    }
   ],
   "source": [
    "def drawLine2P(x,y, xlims, color):\n",
    "    xrange = np.arange(xlims[0],xlims[1],0.1)\n",
    "    A = np.vstack([x, np.ones(len(x))]).T\n",
    "    k, b = np.linalg.lstsq(A, y)[0]\n",
    "    plt.plot(xrange, k*xrange + b, color)\n",
    "\n",
    "plt.figure(figsize=(12,10))\n",
    "plt.scatter(randomData.x, randomData.y)\n",
    "\n",
    "\n",
    "drawLine2P((0, eigvecs[0,0]), (0, eigvecs[1,0]), (-3, 3), 'b')\n",
    "drawLine2P((0, eigvecs[0,1]), (0, eigvecs[1,1]), (-6, 6), 'r')\n",
    "plt.axis(\"equal\");\n"
   ]
  },
  {
   "cell_type": "markdown",
   "metadata": {
    "slideshow": {
     "slide_type": "slide"
    }
   },
   "source": [
    "### Eigenvalues Explain the Variance in the Data\n",
    "\n",
    "* Eigenvalues explain the variance captured by their Eigenvectors\n",
    "\n",
    "\n",
    "* We need to transform them into a percentage \n",
    "  * Dividing each eigenvalue by the sum of eigenvalues.\n",
    "  \n",
    "  \n"
   ]
  },
  {
   "cell_type": "code",
   "execution_count": 32,
   "metadata": {
    "slideshow": {
     "slide_type": "slide"
    }
   },
   "outputs": [
    {
     "name": "stdout",
     "output_type": "stream",
     "text": [
      "The variance captured by the first  eigenvector is: 0.0726742768592219\n",
      "The variance captured by the second eigenvector is: 12.408698870332843 \n"
     ]
    }
   ],
   "source": [
    "print(\"The variance captured by the first  eigenvector is: {}\".format(eigvals[0]))\n",
    "\n",
    "print(\"The variance captured by the second eigenvector is: {} \".format(eigvals[1]))"
   ]
  },
  {
   "cell_type": "code",
   "execution_count": 33,
   "metadata": {
    "slideshow": {
     "slide_type": "slide"
    }
   },
   "outputs": [
    {
     "name": "stdout",
     "output_type": "stream",
     "text": [
      "The percentage of variance captured by the first eigenvector is: 0.005822618713676662\n",
      "The variance captured by the second eigen vector is: 0.9941773812863233\n"
     ]
    }
   ],
   "source": [
    "print(\"The percentage of variance captured by the first eigenvector is: {}\".format(eigvals[0]/ sum(eigvals)))\n",
    "print(\"The variance captured by the second eigen vector is: {}\".format(eigvals[1]/sum(eigvals)))"
   ]
  },
  {
   "cell_type": "markdown",
   "metadata": {
    "slideshow": {
     "slide_type": "slide"
    }
   },
   "source": [
    "\n",
    "### Eigenvalues Explain the Variance in the Data\n",
    "* The second eigenvector captures of 99.1% of the total variance in the data. \n",
    "* By projecting on that eigenvector, our data retains most of its variance. \n",
    "  * We can project on simply by multiplying the original data by the the eigenvector\n",
    "  * As we did in the previous example"
   ]
  },
  {
   "cell_type": "code",
   "execution_count": 34,
   "metadata": {
    "slideshow": {
     "slide_type": "slide"
    }
   },
   "outputs": [
    {
     "name": "stdout",
     "output_type": "stream",
     "text": [
      "My eigenvectors are :\n",
      " [[-0.78052445 -0.62512526]\n",
      " [ 0.62512526 -0.78052445]]\n",
      "The selected eigenvector is:\n",
      " [[-0.62512526]\n",
      " [-0.78052445]]\n"
     ]
    }
   ],
   "source": [
    "print(\"My eigenvectors are :\\n %s\" % eigvecs)\n",
    "\n",
    "print(\"The selected eigenvector is:\\n %s\" % np.array([[eigvecs[0,1]], [eigvecs[1,1] ]]))\n"
   ]
  },
  {
   "cell_type": "code",
   "execution_count": 35,
   "metadata": {
    "slideshow": {
     "slide_type": "slide"
    }
   },
   "outputs": [
    {
     "data": {
      "text/html": [
       "<div>\n",
       "<style scoped>\n",
       "    .dataframe tbody tr th:only-of-type {\n",
       "        vertical-align: middle;\n",
       "    }\n",
       "\n",
       "    .dataframe tbody tr th {\n",
       "        vertical-align: top;\n",
       "    }\n",
       "\n",
       "    .dataframe thead th {\n",
       "        text-align: right;\n",
       "    }\n",
       "</style>\n",
       "<table border=\"1\" class=\"dataframe\">\n",
       "  <thead>\n",
       "    <tr style=\"text-align: right;\">\n",
       "      <th></th>\n",
       "      <th>z</th>\n",
       "    </tr>\n",
       "  </thead>\n",
       "  <tbody>\n",
       "    <tr>\n",
       "      <th>0</th>\n",
       "      <td>6.365928</td>\n",
       "    </tr>\n",
       "    <tr>\n",
       "      <th>1</th>\n",
       "      <td>4.595002</td>\n",
       "    </tr>\n",
       "    <tr>\n",
       "      <th>2</th>\n",
       "      <td>4.044037</td>\n",
       "    </tr>\n",
       "    <tr>\n",
       "      <th>3</th>\n",
       "      <td>3.807799</td>\n",
       "    </tr>\n",
       "    <tr>\n",
       "      <th>4</th>\n",
       "      <td>3.248078</td>\n",
       "    </tr>\n",
       "  </tbody>\n",
       "</table>\n",
       "</div>"
      ],
      "text/plain": [
       "          z\n",
       "0  6.365928\n",
       "1  4.595002\n",
       "2  4.044037\n",
       "3  3.807799\n",
       "4  3.248078"
      ]
     },
     "execution_count": 35,
     "metadata": {},
     "output_type": "execute_result"
    }
   ],
   "source": [
    "newData =  randomData.dot(np.array([[eigvecs[0,1]], [eigvecs[1,1]]]))\n",
    "newData.columns = ['z']\n",
    "newData.head()"
   ]
  },
  {
   "cell_type": "code",
   "execution_count": 36,
   "metadata": {
    "slideshow": {
     "slide_type": "slide"
    }
   },
   "outputs": [
    {
     "data": {
      "image/png": "[encoded data removed]",
      "text/plain": [
       "<Figure size 864x288 with 1 Axes>"
      ]
     },
     "metadata": {
      "needs_background": "light"
     },
     "output_type": "display_data"
    }
   ],
   "source": [
    "plt.figure(figsize=(12, 4))\n",
    "\n",
    "plt.xlabel('z')\n",
    "plt.title('Projecting on the axis that captures most variance')\n",
    "\n",
    "plt.scatter(newData, [0 for _ in range(len(newData))])\n",
    "ax = plt.gca()\n",
    "ax.yaxis.set_visible(False)"
   ]
  },
  {
   "cell_type": "markdown",
   "metadata": {
    "slideshow": {
     "slide_type": "slide"
    }
   },
   "source": [
    "## Running PCA with Scikit-Learn\n",
    "\n",
    "* Scikit-Learn has an implementation of PCA similar that described above\n",
    "  * It also has many other dimensionality reduction algorithms."
   ]
  },
  {
   "cell_type": "code",
   "execution_count": 37,
   "metadata": {
    "slideshow": {
     "slide_type": "slide"
    }
   },
   "outputs": [],
   "source": [
    "pca = PCA(n_components=2)\n",
    "\n",
    "_ = pca.fit(randomData)"
   ]
  },
  {
   "cell_type": "code",
   "execution_count": 38,
   "metadata": {
    "slideshow": {
     "slide_type": "slide"
    }
   },
   "outputs": [
    {
     "data": {
      "text/plain": [
       "array([0.99417738, 0.00582262])"
      ]
     },
     "execution_count": 38,
     "metadata": {},
     "output_type": "execute_result"
    }
   ],
   "source": [
    "    \n",
    "#sns.regplot(x_axis, y_axis, ci=False, fit_reg=False)\n",
    "\n",
    "pca.explained_variance_ratio_\n"
   ]
  },
  {
   "cell_type": "code",
   "execution_count": 39,
   "metadata": {
    "slideshow": {
     "slide_type": "slide"
    }
   },
   "outputs": [
    {
     "data": {
      "text/plain": [
       "array([[ 0.62512526,  0.78052445],\n",
       "       [ 0.78052445, -0.62512526]])"
      ]
     },
     "execution_count": 39,
     "metadata": {},
     "output_type": "execute_result"
    }
   ],
   "source": [
    "pca.components_"
   ]
  },
  {
   "cell_type": "code",
   "execution_count": 44,
   "metadata": {
    "slideshow": {
     "slide_type": "slide"
    }
   },
   "outputs": [
    {
     "name": "stderr",
     "output_type": "stream",
     "text": [
      "/var/folders/wm/4mf96ttd0md8_3czt6nc1vbc0000gn/T/ipykernel_43821/1946272414.py:4: FutureWarning: `rcond` parameter will change to the default of machine precision times ``max(M, N)`` where M and N are the input matrix dimensions.\n",
      "To use the future default and silence this warning we advise to pass `rcond=None`, to keep using the old, explicitly pass `rcond=-1`.\n",
      "  k, b = np.linalg.lstsq(A, y)[0]\n",
      "/var/folders/wm/4mf96ttd0md8_3czt6nc1vbc0000gn/T/ipykernel_43821/1946272414.py:4: FutureWarning: `rcond` parameter will change to the default of machine precision times ``max(M, N)`` where M and N are the input matrix dimensions.\n",
      "To use the future default and silence this warning we advise to pass `rcond=None`, to keep using the old, explicitly pass `rcond=-1`.\n",
      "  k, b = np.linalg.lstsq(A, y)[0]\n"
     ]
    },
    {
     "data": {
      "image/png": "[encoded data removed]",
      "text/plain": [
       "<Figure size 864x432 with 1 Axes>"
      ]
     },
     "metadata": {
      "needs_background": "light"
     },
     "output_type": "display_data"
    }
   ],
   "source": [
    "plt.figure(figsize=(12,6))\n",
    "plt.scatter(randomData.x, randomData.y)\n",
    "\n",
    "#drawLine2P((0, v[0,0]), (0, v[0,1]), (-6, 6), 'k')\n",
    "\n",
    "drawLine2P((0, pca.components_[0,0]), (0, pca.components_[1,0]), (-2, 2), 'r')\n",
    "\n",
    "drawLine2P((0, pca.components_[0,1]), (0, pca.components_[1,1]), (-5, 5), 'b')\n",
    "\n",
    "plt.axis(\"equal\");\n"
   ]
  },
  {
   "cell_type": "code",
   "execution_count": 41,
   "metadata": {
    "slideshow": {
     "slide_type": "slide"
    }
   },
   "outputs": [
    {
     "name": "stdout",
     "output_type": "stream",
     "text": [
      "[[ 0.62512526  0.78052445]\n",
      " [ 0.78052445 -0.62512526]]\n"
     ]
    }
   ],
   "source": [
    "\n",
    "print(pca.components_)"
   ]
  },
  {
   "cell_type": "code",
   "execution_count": 46,
   "metadata": {
    "slideshow": {
     "slide_type": "slide"
    }
   },
   "outputs": [
    {
     "name": "stdout",
     "output_type": "stream",
     "text": [
      "[12.40869887  0.07267428]\n"
     ]
    }
   ],
   "source": [
    "print(pca.explained_variance_)"
   ]
  },
  {
   "cell_type": "code",
   "execution_count": 47,
   "metadata": {
    "slideshow": {
     "slide_type": "slide"
    }
   },
   "outputs": [
    {
     "name": "stdout",
     "output_type": "stream",
     "text": [
      "[0.99417738 0.00582262]\n"
     ]
    }
   ],
   "source": [
    "print(pca.explained_variance_/sum(pca.explained_variance_))"
   ]
  },
  {
   "cell_type": "code",
   "execution_count": 51,
   "metadata": {
    "slideshow": {
     "slide_type": "slide"
    }
   },
   "outputs": [
    {
     "data": {
      "text/plain": [
       "PCA(n_components=2)"
      ]
     },
     "execution_count": 51,
     "metadata": {},
     "output_type": "execute_result"
    }
   ],
   "source": [
    "X = randomData.to_numpy()\n",
    "\n",
    "pca = PCA(n_components=2)\n",
    "\n",
    "pca.fit(X)\n"
   ]
  },
  {
   "cell_type": "markdown",
   "metadata": {
    "slideshow": {
     "slide_type": "slide"
    }
   },
   "source": [
    "<img src=\"https://www.dropbox.com/s/y3nmp8p2o9akiht/eig_vecs.png?dl=1\" alt=\"drawing\" style=\"width:900px;\"/>\n"
   ]
  },
  {
   "cell_type": "code",
   "execution_count": 52,
   "metadata": {
    "slideshow": {
     "slide_type": "skip"
    }
   },
   "outputs": [
    {
     "data": {
      "image/png": "[encoded data removed]",
      "text/plain": [
       "<Figure size 1440x432 with 1 Axes>"
      ]
     },
     "metadata": {
      "needs_background": "light"
     },
     "output_type": "display_data"
    }
   ],
   "source": [
    "def draw_vector(v0, v1, ax=None):\n",
    "    ax = ax or plt.gca()\n",
    "    arrowprops=dict(arrowstyle='->',\n",
    "                    linewidth=2,\n",
    "                    shrinkA=0, shrinkB=0)\n",
    "    ax.annotate('', v1, v0, arrowprops=arrowprops)\n",
    "\n",
    "plt.figure(figsize=(20,6))\n",
    "plt.scatter(X[:, 0], X[:, 1], alpha=0.2)\n",
    "for length, vector in zip(pca.explained_variance_, pca.components_):\n",
    "    v = vector * 2 * np.sqrt(length)\n",
    "    draw_vector(pca.mean_, pca.mean_ + v)\n",
    "plt.axis('equal');"
   ]
  },
  {
   "cell_type": "code",
   "execution_count": 53,
   "metadata": {
    "slideshow": {
     "slide_type": "slide"
    }
   },
   "outputs": [
    {
     "name": "stdout",
     "output_type": "stream",
     "text": [
      "The ration of explained variance is: [0.99417738 0.00582262] \n"
     ]
    }
   ],
   "source": [
    "print(\"The ration of explained variance is: %s \" % pca.explained_variance_ratio_)"
   ]
  },
  {
   "cell_type": "markdown",
   "metadata": {
    "slideshow": {
     "slide_type": "slide"
    }
   },
   "source": [
    "### PCA Advantages and Limitations\n",
    "* Advantages\n",
    "  * Handles linear data well  weird and curved shaped surfaces necessitated development of more advanced algorithms like Manifold \n",
    "\n",
    "* Limitations\n",
    "  * non-linear weird and curved shaped surfaces necessitated development of more advanced algorithms like Manifold Learning. \n",
    "    * Linear dimensionality reduction cannot cluster data with non-linear global structure.\n",
    " * Does not handle large datasets\n",
    "  \n",
    "* Alway keep in mind that PCA is \"more useful as a visualization technique than as an analytical method.\""
   ]
  },
  {
   "cell_type": "markdown",
   "metadata": {
    "slideshow": {
     "slide_type": "slide"
    }
   },
   "source": [
    "<img src=\"https://www.dropbox.com/s/ukkk7i4s4ppya0h/swiss_roll.png?dl=1\" alt=\"drawing\" style=\"width:500px;\"/>"
   ]
  },
  {
   "cell_type": "code",
   "execution_count": null,
   "metadata": {},
   "outputs": [],
   "source": []
  }
 ],
 "metadata": {
  "celltoolbar": "Slideshow",
  "kernelspec": {
   "display_name": "Python 3 (ipykernel)",
   "language": "python",
   "name": "python3"
  },
  "language_info": {
   "codemirror_mode": {
    "name": "ipython",
    "version": 3
   },
   "file_extension": ".py",
   "mimetype": "text/x-python",
   "name": "python",
   "nbconvert_exporter": "python",
   "pygments_lexer": "ipython3",
   "version": "3.8.3"
  }
 },
 "nbformat": 4,
 "nbformat_minor": 2
}
